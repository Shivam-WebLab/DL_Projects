{
 "cells": [
  {
   "cell_type": "markdown",
   "id": "043f5c85-4648-4a05-8613-fde2eef2fa77",
   "metadata": {},
   "source": [
    "### ANN model for Churn Prediction"
   ]
  },
  {
   "cell_type": "code",
   "execution_count": 1,
   "id": "c6c66717-20ad-4267-8fa2-05962b93dcba",
   "metadata": {},
   "outputs": [
    {
     "name": "stderr",
     "output_type": "stream",
     "text": [
      "C:\\Anaconda\\envs\\tf_gpu\\Lib\\site-packages\\requests\\__init__.py:86: RequestsDependencyWarning: Unable to find acceptable character detection dependency (chardet or charset_normalizer).\n",
      "  warnings.warn(\n"
     ]
    },
    {
     "name": "stdout",
     "output_type": "stream",
     "text": [
      "WARNING:tensorflow:From C:\\Anaconda\\envs\\tf_gpu\\Lib\\site-packages\\keras\\src\\losses.py:2976: The name tf.losses.sparse_softmax_cross_entropy is deprecated. Please use tf.compat.v1.losses.sparse_softmax_cross_entropy instead.\n",
      "\n",
      "TF Version: 2.15.0\n",
      "GPU Available: []\n"
     ]
    }
   ],
   "source": [
    "import tensorflow as tf\n",
    "print(\"TF Version:\", tf.__version__)\n",
    "print(\"GPU Available:\", tf.config.list_physical_devices('GPU'))"
   ]
  },
  {
   "cell_type": "code",
   "execution_count": 2,
   "id": "dce760e4-eee2-4c03-8c33-4801e78ec0cb",
   "metadata": {},
   "outputs": [],
   "source": [
    "import numpy as np\n",
    "import pandas as pd\n",
    "import matplotlib.pyplot as plt"
   ]
  },
  {
   "cell_type": "code",
   "execution_count": 3,
   "id": "87da2c94-8e4d-4f52-b3b8-e6554860716c",
   "metadata": {},
   "outputs": [
    {
     "name": "stdout",
     "output_type": "stream",
     "text": [
      "3.6.3\n"
     ]
    }
   ],
   "source": [
    "import matplotlib\n",
    "print(matplotlib.__version__)  # Should show your installed version"
   ]
  },
  {
   "cell_type": "code",
   "execution_count": 3,
   "id": "fe9beb91-4a89-458f-a69d-ea3cc5c81055",
   "metadata": {},
   "outputs": [
    {
     "data": {
      "text/html": [
       "<div>\n",
       "<style scoped>\n",
       "    .dataframe tbody tr th:only-of-type {\n",
       "        vertical-align: middle;\n",
       "    }\n",
       "\n",
       "    .dataframe tbody tr th {\n",
       "        vertical-align: top;\n",
       "    }\n",
       "\n",
       "    .dataframe thead th {\n",
       "        text-align: right;\n",
       "    }\n",
       "</style>\n",
       "<table border=\"1\" class=\"dataframe\">\n",
       "  <thead>\n",
       "    <tr style=\"text-align: right;\">\n",
       "      <th></th>\n",
       "      <th>RowNumber</th>\n",
       "      <th>CustomerId</th>\n",
       "      <th>Surname</th>\n",
       "      <th>CreditScore</th>\n",
       "      <th>Geography</th>\n",
       "      <th>Gender</th>\n",
       "      <th>Age</th>\n",
       "      <th>Tenure</th>\n",
       "      <th>Balance</th>\n",
       "      <th>NumOfProducts</th>\n",
       "      <th>HasCrCard</th>\n",
       "      <th>IsActiveMember</th>\n",
       "      <th>EstimatedSalary</th>\n",
       "      <th>Exited</th>\n",
       "    </tr>\n",
       "  </thead>\n",
       "  <tbody>\n",
       "    <tr>\n",
       "      <th>0</th>\n",
       "      <td>1</td>\n",
       "      <td>15634602</td>\n",
       "      <td>Hargrave</td>\n",
       "      <td>619</td>\n",
       "      <td>France</td>\n",
       "      <td>Female</td>\n",
       "      <td>42</td>\n",
       "      <td>2</td>\n",
       "      <td>0.00</td>\n",
       "      <td>1</td>\n",
       "      <td>1</td>\n",
       "      <td>1</td>\n",
       "      <td>101348.88</td>\n",
       "      <td>1</td>\n",
       "    </tr>\n",
       "    <tr>\n",
       "      <th>1</th>\n",
       "      <td>2</td>\n",
       "      <td>15647311</td>\n",
       "      <td>Hill</td>\n",
       "      <td>608</td>\n",
       "      <td>Spain</td>\n",
       "      <td>Female</td>\n",
       "      <td>41</td>\n",
       "      <td>1</td>\n",
       "      <td>83807.86</td>\n",
       "      <td>1</td>\n",
       "      <td>0</td>\n",
       "      <td>1</td>\n",
       "      <td>112542.58</td>\n",
       "      <td>0</td>\n",
       "    </tr>\n",
       "    <tr>\n",
       "      <th>2</th>\n",
       "      <td>3</td>\n",
       "      <td>15619304</td>\n",
       "      <td>Onio</td>\n",
       "      <td>502</td>\n",
       "      <td>France</td>\n",
       "      <td>Female</td>\n",
       "      <td>42</td>\n",
       "      <td>8</td>\n",
       "      <td>159660.80</td>\n",
       "      <td>3</td>\n",
       "      <td>1</td>\n",
       "      <td>0</td>\n",
       "      <td>113931.57</td>\n",
       "      <td>1</td>\n",
       "    </tr>\n",
       "    <tr>\n",
       "      <th>3</th>\n",
       "      <td>4</td>\n",
       "      <td>15701354</td>\n",
       "      <td>Boni</td>\n",
       "      <td>699</td>\n",
       "      <td>France</td>\n",
       "      <td>Female</td>\n",
       "      <td>39</td>\n",
       "      <td>1</td>\n",
       "      <td>0.00</td>\n",
       "      <td>2</td>\n",
       "      <td>0</td>\n",
       "      <td>0</td>\n",
       "      <td>93826.63</td>\n",
       "      <td>0</td>\n",
       "    </tr>\n",
       "    <tr>\n",
       "      <th>4</th>\n",
       "      <td>5</td>\n",
       "      <td>15737888</td>\n",
       "      <td>Mitchell</td>\n",
       "      <td>850</td>\n",
       "      <td>Spain</td>\n",
       "      <td>Female</td>\n",
       "      <td>43</td>\n",
       "      <td>2</td>\n",
       "      <td>125510.82</td>\n",
       "      <td>1</td>\n",
       "      <td>1</td>\n",
       "      <td>1</td>\n",
       "      <td>79084.10</td>\n",
       "      <td>0</td>\n",
       "    </tr>\n",
       "  </tbody>\n",
       "</table>\n",
       "</div>"
      ],
      "text/plain": [
       "   RowNumber  CustomerId   Surname  CreditScore Geography  Gender  Age  \\\n",
       "0          1    15634602  Hargrave          619    France  Female   42   \n",
       "1          2    15647311      Hill          608     Spain  Female   41   \n",
       "2          3    15619304      Onio          502    France  Female   42   \n",
       "3          4    15701354      Boni          699    France  Female   39   \n",
       "4          5    15737888  Mitchell          850     Spain  Female   43   \n",
       "\n",
       "   Tenure    Balance  NumOfProducts  HasCrCard  IsActiveMember  \\\n",
       "0       2       0.00              1          1               1   \n",
       "1       1   83807.86              1          0               1   \n",
       "2       8  159660.80              3          1               0   \n",
       "3       1       0.00              2          0               0   \n",
       "4       2  125510.82              1          1               1   \n",
       "\n",
       "   EstimatedSalary  Exited  \n",
       "0        101348.88       1  \n",
       "1        112542.58       0  \n",
       "2        113931.57       1  \n",
       "3         93826.63       0  \n",
       "4         79084.10       0  "
      ]
     },
     "execution_count": 3,
     "metadata": {},
     "output_type": "execute_result"
    }
   ],
   "source": [
    "df = pd.read_csv('Churn_Modelling.csv')\n",
    "df.head()"
   ]
  },
  {
   "cell_type": "code",
   "execution_count": 5,
   "id": "e2defefe-312e-4fe6-ba7e-14597dfed7c5",
   "metadata": {},
   "outputs": [
    {
     "data": {
      "text/plain": [
       "(10000, 14)"
      ]
     },
     "execution_count": 5,
     "metadata": {},
     "output_type": "execute_result"
    }
   ],
   "source": [
    "df.shape"
   ]
  },
  {
   "cell_type": "markdown",
   "id": "cd8dc342-afc7-4288-8502-b2ae17b4be49",
   "metadata": {},
   "source": [
    "Divide the dataset into independent and dependent features\n",
    "Here, we dont want features like RowNumber CustomerId and surname"
   ]
  },
  {
   "cell_type": "code",
   "execution_count": 4,
   "id": "a6177ba0-5c9f-4ffd-91cc-d9ac467e1cf2",
   "metadata": {},
   "outputs": [],
   "source": [
    "X = df.iloc[:,3:13]\n",
    "y = df.iloc[:,13]"
   ]
  },
  {
   "cell_type": "code",
   "execution_count": 24,
   "id": "5f9c4e1c-6936-4bac-8186-cc49fe5f7596",
   "metadata": {},
   "outputs": [
    {
     "data": {
      "text/html": [
       "<div>\n",
       "<style scoped>\n",
       "    .dataframe tbody tr th:only-of-type {\n",
       "        vertical-align: middle;\n",
       "    }\n",
       "\n",
       "    .dataframe tbody tr th {\n",
       "        vertical-align: top;\n",
       "    }\n",
       "\n",
       "    .dataframe thead th {\n",
       "        text-align: right;\n",
       "    }\n",
       "</style>\n",
       "<table border=\"1\" class=\"dataframe\">\n",
       "  <thead>\n",
       "    <tr style=\"text-align: right;\">\n",
       "      <th></th>\n",
       "      <th>CreditScore</th>\n",
       "      <th>Geography</th>\n",
       "      <th>Gender</th>\n",
       "      <th>Age</th>\n",
       "      <th>Tenure</th>\n",
       "      <th>Balance</th>\n",
       "      <th>NumOfProducts</th>\n",
       "      <th>HasCrCard</th>\n",
       "      <th>IsActiveMember</th>\n",
       "      <th>EstimatedSalary</th>\n",
       "    </tr>\n",
       "  </thead>\n",
       "  <tbody>\n",
       "    <tr>\n",
       "      <th>0</th>\n",
       "      <td>619</td>\n",
       "      <td>France</td>\n",
       "      <td>Female</td>\n",
       "      <td>42</td>\n",
       "      <td>2</td>\n",
       "      <td>0.00</td>\n",
       "      <td>1</td>\n",
       "      <td>1</td>\n",
       "      <td>1</td>\n",
       "      <td>101348.88</td>\n",
       "    </tr>\n",
       "    <tr>\n",
       "      <th>1</th>\n",
       "      <td>608</td>\n",
       "      <td>Spain</td>\n",
       "      <td>Female</td>\n",
       "      <td>41</td>\n",
       "      <td>1</td>\n",
       "      <td>83807.86</td>\n",
       "      <td>1</td>\n",
       "      <td>0</td>\n",
       "      <td>1</td>\n",
       "      <td>112542.58</td>\n",
       "    </tr>\n",
       "    <tr>\n",
       "      <th>2</th>\n",
       "      <td>502</td>\n",
       "      <td>France</td>\n",
       "      <td>Female</td>\n",
       "      <td>42</td>\n",
       "      <td>8</td>\n",
       "      <td>159660.80</td>\n",
       "      <td>3</td>\n",
       "      <td>1</td>\n",
       "      <td>0</td>\n",
       "      <td>113931.57</td>\n",
       "    </tr>\n",
       "    <tr>\n",
       "      <th>3</th>\n",
       "      <td>699</td>\n",
       "      <td>France</td>\n",
       "      <td>Female</td>\n",
       "      <td>39</td>\n",
       "      <td>1</td>\n",
       "      <td>0.00</td>\n",
       "      <td>2</td>\n",
       "      <td>0</td>\n",
       "      <td>0</td>\n",
       "      <td>93826.63</td>\n",
       "    </tr>\n",
       "    <tr>\n",
       "      <th>4</th>\n",
       "      <td>850</td>\n",
       "      <td>Spain</td>\n",
       "      <td>Female</td>\n",
       "      <td>43</td>\n",
       "      <td>2</td>\n",
       "      <td>125510.82</td>\n",
       "      <td>1</td>\n",
       "      <td>1</td>\n",
       "      <td>1</td>\n",
       "      <td>79084.10</td>\n",
       "    </tr>\n",
       "  </tbody>\n",
       "</table>\n",
       "</div>"
      ],
      "text/plain": [
       "   CreditScore Geography  Gender  Age  Tenure    Balance  NumOfProducts  \\\n",
       "0          619    France  Female   42       2       0.00              1   \n",
       "1          608     Spain  Female   41       1   83807.86              1   \n",
       "2          502    France  Female   42       8  159660.80              3   \n",
       "3          699    France  Female   39       1       0.00              2   \n",
       "4          850     Spain  Female   43       2  125510.82              1   \n",
       "\n",
       "   HasCrCard  IsActiveMember  EstimatedSalary  \n",
       "0          1               1        101348.88  \n",
       "1          0               1        112542.58  \n",
       "2          1               0        113931.57  \n",
       "3          0               0         93826.63  \n",
       "4          1               1         79084.10  "
      ]
     },
     "execution_count": 24,
     "metadata": {},
     "output_type": "execute_result"
    }
   ],
   "source": [
    "X.head()"
   ]
  },
  {
   "cell_type": "code",
   "execution_count": 5,
   "id": "1538ec10-7054-4a4e-864a-5a6d71f7f3b4",
   "metadata": {},
   "outputs": [
    {
     "data": {
      "text/plain": [
       "0    1\n",
       "1    0\n",
       "2    1\n",
       "3    0\n",
       "4    0\n",
       "Name: Exited, dtype: int64"
      ]
     },
     "execution_count": 5,
     "metadata": {},
     "output_type": "execute_result"
    }
   ],
   "source": [
    "y.head()"
   ]
  },
  {
   "cell_type": "markdown",
   "id": "48bda58b-0873-46d6-99bb-227e81a81852",
   "metadata": {},
   "source": [
    "Now, we see the dataset is not really clean,\n",
    "there are many categorical features like gender, geography"
   ]
  },
  {
   "cell_type": "markdown",
   "id": "1a2aab57-de0c-48aa-9703-cfc9a4c503dc",
   "metadata": {},
   "source": [
    "#### Feature engineering part"
   ]
  },
  {
   "cell_type": "code",
   "execution_count": 6,
   "id": "6e6e76cc-9372-42b6-bfa1-9d618f04ef6a",
   "metadata": {},
   "outputs": [
    {
     "data": {
      "text/html": [
       "<div>\n",
       "<style scoped>\n",
       "    .dataframe tbody tr th:only-of-type {\n",
       "        vertical-align: middle;\n",
       "    }\n",
       "\n",
       "    .dataframe tbody tr th {\n",
       "        vertical-align: top;\n",
       "    }\n",
       "\n",
       "    .dataframe thead th {\n",
       "        text-align: right;\n",
       "    }\n",
       "</style>\n",
       "<table border=\"1\" class=\"dataframe\">\n",
       "  <thead>\n",
       "    <tr style=\"text-align: right;\">\n",
       "      <th></th>\n",
       "      <th>Germany</th>\n",
       "      <th>Spain</th>\n",
       "    </tr>\n",
       "  </thead>\n",
       "  <tbody>\n",
       "    <tr>\n",
       "      <th>0</th>\n",
       "      <td>False</td>\n",
       "      <td>False</td>\n",
       "    </tr>\n",
       "    <tr>\n",
       "      <th>1</th>\n",
       "      <td>False</td>\n",
       "      <td>True</td>\n",
       "    </tr>\n",
       "    <tr>\n",
       "      <th>2</th>\n",
       "      <td>False</td>\n",
       "      <td>False</td>\n",
       "    </tr>\n",
       "    <tr>\n",
       "      <th>3</th>\n",
       "      <td>False</td>\n",
       "      <td>False</td>\n",
       "    </tr>\n",
       "    <tr>\n",
       "      <th>4</th>\n",
       "      <td>False</td>\n",
       "      <td>True</td>\n",
       "    </tr>\n",
       "    <tr>\n",
       "      <th>...</th>\n",
       "      <td>...</td>\n",
       "      <td>...</td>\n",
       "    </tr>\n",
       "    <tr>\n",
       "      <th>9995</th>\n",
       "      <td>False</td>\n",
       "      <td>False</td>\n",
       "    </tr>\n",
       "    <tr>\n",
       "      <th>9996</th>\n",
       "      <td>False</td>\n",
       "      <td>False</td>\n",
       "    </tr>\n",
       "    <tr>\n",
       "      <th>9997</th>\n",
       "      <td>False</td>\n",
       "      <td>False</td>\n",
       "    </tr>\n",
       "    <tr>\n",
       "      <th>9998</th>\n",
       "      <td>True</td>\n",
       "      <td>False</td>\n",
       "    </tr>\n",
       "    <tr>\n",
       "      <th>9999</th>\n",
       "      <td>False</td>\n",
       "      <td>False</td>\n",
       "    </tr>\n",
       "  </tbody>\n",
       "</table>\n",
       "<p>10000 rows × 2 columns</p>\n",
       "</div>"
      ],
      "text/plain": [
       "      Germany  Spain\n",
       "0       False  False\n",
       "1       False   True\n",
       "2       False  False\n",
       "3       False  False\n",
       "4       False   True\n",
       "...       ...    ...\n",
       "9995    False  False\n",
       "9996    False  False\n",
       "9997    False  False\n",
       "9998     True  False\n",
       "9999    False  False\n",
       "\n",
       "[10000 rows x 2 columns]"
      ]
     },
     "execution_count": 6,
     "metadata": {},
     "output_type": "execute_result"
    }
   ],
   "source": [
    "geography = pd.get_dummies(X['Geography'],drop_first=True)\n",
    "geography"
   ]
  },
  {
   "cell_type": "code",
   "execution_count": 7,
   "id": "9259cda1-e5aa-4820-abf4-4dcb7ee03968",
   "metadata": {},
   "outputs": [
    {
     "name": "stderr",
     "output_type": "stream",
     "text": [
      "C:\\Users\\shiva\\AppData\\Local\\Temp\\ipykernel_31640\\2265303579.py:2: FutureWarning: Downcasting behavior in `replace` is deprecated and will be removed in a future version. To retain the old behavior, explicitly call `result.infer_objects(copy=False)`. To opt-in to the future behavior, set `pd.set_option('future.no_silent_downcasting', True)`\n",
      "  geography = geography.replace({False: 0, True: 1}).astype('int64')\n"
     ]
    },
    {
     "data": {
      "text/html": [
       "<div>\n",
       "<style scoped>\n",
       "    .dataframe tbody tr th:only-of-type {\n",
       "        vertical-align: middle;\n",
       "    }\n",
       "\n",
       "    .dataframe tbody tr th {\n",
       "        vertical-align: top;\n",
       "    }\n",
       "\n",
       "    .dataframe thead th {\n",
       "        text-align: right;\n",
       "    }\n",
       "</style>\n",
       "<table border=\"1\" class=\"dataframe\">\n",
       "  <thead>\n",
       "    <tr style=\"text-align: right;\">\n",
       "      <th></th>\n",
       "      <th>Germany</th>\n",
       "      <th>Spain</th>\n",
       "    </tr>\n",
       "  </thead>\n",
       "  <tbody>\n",
       "    <tr>\n",
       "      <th>0</th>\n",
       "      <td>0</td>\n",
       "      <td>0</td>\n",
       "    </tr>\n",
       "    <tr>\n",
       "      <th>1</th>\n",
       "      <td>0</td>\n",
       "      <td>1</td>\n",
       "    </tr>\n",
       "    <tr>\n",
       "      <th>2</th>\n",
       "      <td>0</td>\n",
       "      <td>0</td>\n",
       "    </tr>\n",
       "    <tr>\n",
       "      <th>3</th>\n",
       "      <td>0</td>\n",
       "      <td>0</td>\n",
       "    </tr>\n",
       "    <tr>\n",
       "      <th>4</th>\n",
       "      <td>0</td>\n",
       "      <td>1</td>\n",
       "    </tr>\n",
       "    <tr>\n",
       "      <th>...</th>\n",
       "      <td>...</td>\n",
       "      <td>...</td>\n",
       "    </tr>\n",
       "    <tr>\n",
       "      <th>9995</th>\n",
       "      <td>0</td>\n",
       "      <td>0</td>\n",
       "    </tr>\n",
       "    <tr>\n",
       "      <th>9996</th>\n",
       "      <td>0</td>\n",
       "      <td>0</td>\n",
       "    </tr>\n",
       "    <tr>\n",
       "      <th>9997</th>\n",
       "      <td>0</td>\n",
       "      <td>0</td>\n",
       "    </tr>\n",
       "    <tr>\n",
       "      <th>9998</th>\n",
       "      <td>1</td>\n",
       "      <td>0</td>\n",
       "    </tr>\n",
       "    <tr>\n",
       "      <th>9999</th>\n",
       "      <td>0</td>\n",
       "      <td>0</td>\n",
       "    </tr>\n",
       "  </tbody>\n",
       "</table>\n",
       "<p>10000 rows × 2 columns</p>\n",
       "</div>"
      ],
      "text/plain": [
       "      Germany  Spain\n",
       "0           0      0\n",
       "1           0      1\n",
       "2           0      0\n",
       "3           0      0\n",
       "4           0      1\n",
       "...       ...    ...\n",
       "9995        0      0\n",
       "9996        0      0\n",
       "9997        0      0\n",
       "9998        1      0\n",
       "9999        0      0\n",
       "\n",
       "[10000 rows x 2 columns]"
      ]
     },
     "execution_count": 7,
     "metadata": {},
     "output_type": "execute_result"
    }
   ],
   "source": [
    "# Convert all boolean columns in 'geography' to int64 explicitly\n",
    "geography = geography.replace({False: 0, True: 1}).astype('int64')\n",
    "\n",
    "# Now concatenate\n",
    "geography"
   ]
  },
  {
   "cell_type": "code",
   "execution_count": 8,
   "id": "76d9314c-d202-4241-8c57-63f0f0ce6bbc",
   "metadata": {},
   "outputs": [
    {
     "data": {
      "text/html": [
       "<div>\n",
       "<style scoped>\n",
       "    .dataframe tbody tr th:only-of-type {\n",
       "        vertical-align: middle;\n",
       "    }\n",
       "\n",
       "    .dataframe tbody tr th {\n",
       "        vertical-align: top;\n",
       "    }\n",
       "\n",
       "    .dataframe thead th {\n",
       "        text-align: right;\n",
       "    }\n",
       "</style>\n",
       "<table border=\"1\" class=\"dataframe\">\n",
       "  <thead>\n",
       "    <tr style=\"text-align: right;\">\n",
       "      <th></th>\n",
       "      <th>Male</th>\n",
       "    </tr>\n",
       "  </thead>\n",
       "  <tbody>\n",
       "    <tr>\n",
       "      <th>0</th>\n",
       "      <td>False</td>\n",
       "    </tr>\n",
       "    <tr>\n",
       "      <th>1</th>\n",
       "      <td>False</td>\n",
       "    </tr>\n",
       "    <tr>\n",
       "      <th>2</th>\n",
       "      <td>False</td>\n",
       "    </tr>\n",
       "    <tr>\n",
       "      <th>3</th>\n",
       "      <td>False</td>\n",
       "    </tr>\n",
       "    <tr>\n",
       "      <th>4</th>\n",
       "      <td>False</td>\n",
       "    </tr>\n",
       "    <tr>\n",
       "      <th>...</th>\n",
       "      <td>...</td>\n",
       "    </tr>\n",
       "    <tr>\n",
       "      <th>9995</th>\n",
       "      <td>True</td>\n",
       "    </tr>\n",
       "    <tr>\n",
       "      <th>9996</th>\n",
       "      <td>True</td>\n",
       "    </tr>\n",
       "    <tr>\n",
       "      <th>9997</th>\n",
       "      <td>False</td>\n",
       "    </tr>\n",
       "    <tr>\n",
       "      <th>9998</th>\n",
       "      <td>True</td>\n",
       "    </tr>\n",
       "    <tr>\n",
       "      <th>9999</th>\n",
       "      <td>False</td>\n",
       "    </tr>\n",
       "  </tbody>\n",
       "</table>\n",
       "<p>10000 rows × 1 columns</p>\n",
       "</div>"
      ],
      "text/plain": [
       "       Male\n",
       "0     False\n",
       "1     False\n",
       "2     False\n",
       "3     False\n",
       "4     False\n",
       "...     ...\n",
       "9995   True\n",
       "9996   True\n",
       "9997  False\n",
       "9998   True\n",
       "9999  False\n",
       "\n",
       "[10000 rows x 1 columns]"
      ]
     },
     "execution_count": 8,
     "metadata": {},
     "output_type": "execute_result"
    }
   ],
   "source": [
    "gender = pd.get_dummies(X['Gender'],drop_first=True)\n",
    "gender"
   ]
  },
  {
   "cell_type": "code",
   "execution_count": 9,
   "id": "527dc295-5073-4e1b-82de-794e3332f76a",
   "metadata": {},
   "outputs": [
    {
     "name": "stderr",
     "output_type": "stream",
     "text": [
      "C:\\Users\\shiva\\AppData\\Local\\Temp\\ipykernel_31640\\2235935320.py:2: FutureWarning: Downcasting behavior in `replace` is deprecated and will be removed in a future version. To retain the old behavior, explicitly call `result.infer_objects(copy=False)`. To opt-in to the future behavior, set `pd.set_option('future.no_silent_downcasting', True)`\n",
      "  gender = gender.replace({False: 0, True: 1}).astype('int64')\n"
     ]
    },
    {
     "data": {
      "text/html": [
       "<div>\n",
       "<style scoped>\n",
       "    .dataframe tbody tr th:only-of-type {\n",
       "        vertical-align: middle;\n",
       "    }\n",
       "\n",
       "    .dataframe tbody tr th {\n",
       "        vertical-align: top;\n",
       "    }\n",
       "\n",
       "    .dataframe thead th {\n",
       "        text-align: right;\n",
       "    }\n",
       "</style>\n",
       "<table border=\"1\" class=\"dataframe\">\n",
       "  <thead>\n",
       "    <tr style=\"text-align: right;\">\n",
       "      <th></th>\n",
       "      <th>Male</th>\n",
       "    </tr>\n",
       "  </thead>\n",
       "  <tbody>\n",
       "    <tr>\n",
       "      <th>0</th>\n",
       "      <td>0</td>\n",
       "    </tr>\n",
       "    <tr>\n",
       "      <th>1</th>\n",
       "      <td>0</td>\n",
       "    </tr>\n",
       "    <tr>\n",
       "      <th>2</th>\n",
       "      <td>0</td>\n",
       "    </tr>\n",
       "    <tr>\n",
       "      <th>3</th>\n",
       "      <td>0</td>\n",
       "    </tr>\n",
       "    <tr>\n",
       "      <th>4</th>\n",
       "      <td>0</td>\n",
       "    </tr>\n",
       "    <tr>\n",
       "      <th>...</th>\n",
       "      <td>...</td>\n",
       "    </tr>\n",
       "    <tr>\n",
       "      <th>9995</th>\n",
       "      <td>1</td>\n",
       "    </tr>\n",
       "    <tr>\n",
       "      <th>9996</th>\n",
       "      <td>1</td>\n",
       "    </tr>\n",
       "    <tr>\n",
       "      <th>9997</th>\n",
       "      <td>0</td>\n",
       "    </tr>\n",
       "    <tr>\n",
       "      <th>9998</th>\n",
       "      <td>1</td>\n",
       "    </tr>\n",
       "    <tr>\n",
       "      <th>9999</th>\n",
       "      <td>0</td>\n",
       "    </tr>\n",
       "  </tbody>\n",
       "</table>\n",
       "<p>10000 rows × 1 columns</p>\n",
       "</div>"
      ],
      "text/plain": [
       "      Male\n",
       "0        0\n",
       "1        0\n",
       "2        0\n",
       "3        0\n",
       "4        0\n",
       "...    ...\n",
       "9995     1\n",
       "9996     1\n",
       "9997     0\n",
       "9998     1\n",
       "9999     0\n",
       "\n",
       "[10000 rows x 1 columns]"
      ]
     },
     "execution_count": 9,
     "metadata": {},
     "output_type": "execute_result"
    }
   ],
   "source": [
    "# Convert all boolean columns in 'geography' to int64 explicitly\n",
    "gender = gender.replace({False: 0, True: 1}).astype('int64')\n",
    "gender"
   ]
  },
  {
   "cell_type": "markdown",
   "id": "d73542fc-639b-47fc-a076-bc6f0c0f2b47",
   "metadata": {},
   "source": [
    "#### Concatenate these vaiables with dataframe(df)\n",
    "There are some debugging code in between to tackle the misalignment and dtype clashes in concatenation"
   ]
  },
  {
   "cell_type": "code",
   "execution_count": 10,
   "id": "09a1a5bf-49f3-4d3a-830e-2035c6217236",
   "metadata": {},
   "outputs": [
    {
     "data": {
      "text/html": [
       "<div>\n",
       "<style scoped>\n",
       "    .dataframe tbody tr th:only-of-type {\n",
       "        vertical-align: middle;\n",
       "    }\n",
       "\n",
       "    .dataframe tbody tr th {\n",
       "        vertical-align: top;\n",
       "    }\n",
       "\n",
       "    .dataframe thead th {\n",
       "        text-align: right;\n",
       "    }\n",
       "</style>\n",
       "<table border=\"1\" class=\"dataframe\">\n",
       "  <thead>\n",
       "    <tr style=\"text-align: right;\">\n",
       "      <th></th>\n",
       "      <th>CreditScore</th>\n",
       "      <th>Age</th>\n",
       "      <th>Tenure</th>\n",
       "      <th>Balance</th>\n",
       "      <th>NumOfProducts</th>\n",
       "      <th>HasCrCard</th>\n",
       "      <th>IsActiveMember</th>\n",
       "      <th>EstimatedSalary</th>\n",
       "    </tr>\n",
       "  </thead>\n",
       "  <tbody>\n",
       "  </tbody>\n",
       "</table>\n",
       "</div>"
      ],
      "text/plain": [
       "Empty DataFrame\n",
       "Columns: [CreditScore, Age, Tenure, Balance, NumOfProducts, HasCrCard, IsActiveMember, EstimatedSalary]\n",
       "Index: []"
      ]
     },
     "execution_count": 10,
     "metadata": {},
     "output_type": "execute_result"
    }
   ],
   "source": [
    "# Now first we drop the geo and gender features\n",
    "X=X.drop(['Geography','Gender'],axis=1)\n",
    "X.head(0)"
   ]
  },
  {
   "cell_type": "code",
   "execution_count": 11,
   "id": "5c99b46c-0fc6-4cc4-b639-ed9f631ff0c3",
   "metadata": {},
   "outputs": [
    {
     "name": "stdout",
     "output_type": "stream",
     "text": [
      "Germany    int64\n",
      "Spain      int64\n",
      "dtype: object\n",
      "Germany    1\n",
      "Spain      1\n",
      "dtype: int64\n"
     ]
    },
    {
     "name": "stderr",
     "output_type": "stream",
     "text": [
      "C:\\Users\\shiva\\AppData\\Local\\Temp\\ipykernel_31640\\3828458983.py:2: FutureWarning: DataFrame.applymap has been deprecated. Use DataFrame.map instead.\n",
      "  print(geography.applymap(type).nunique())  # Look for mixed types\n"
     ]
    }
   ],
   "source": [
    "print(geography.dtypes)  # Check if columns are 'int64'\n",
    "print(geography.applymap(type).nunique())  # Look for mixed types"
   ]
  },
  {
   "cell_type": "code",
   "execution_count": 12,
   "id": "c0e5fedc-7658-4702-a276-efecbbca9fca",
   "metadata": {},
   "outputs": [
    {
     "name": "stdout",
     "output_type": "stream",
     "text": [
      "Germany    int32\n",
      "Spain      int32\n",
      "dtype: object\n",
      "Germany    1\n",
      "Spain      1\n",
      "dtype: int64\n"
     ]
    },
    {
     "name": "stderr",
     "output_type": "stream",
     "text": [
      "C:\\Users\\shiva\\AppData\\Local\\Temp\\ipykernel_31640\\3358207139.py:5: FutureWarning: DataFrame.applymap has been deprecated. Use DataFrame.map instead.\n",
      "  print(geography.applymap(type).nunique())  # Look for mixed types\n"
     ]
    }
   ],
   "source": [
    "# Ensure all values are properly converted to integers\n",
    "geography = geography.astype(int)\n",
    "\n",
    "print(geography.dtypes)  # Check if columns are 'int64'\n",
    "print(geography.applymap(type).nunique())  # Look for mixed types"
   ]
  },
  {
   "cell_type": "code",
   "execution_count": 13,
   "id": "cce9e45a-02fc-4f6c-a9b8-05ae59fb541b",
   "metadata": {},
   "outputs": [
    {
     "name": "stdout",
     "output_type": "stream",
     "text": [
      "<bound method DataFrame.info of       Germany  Spain\n",
      "0           0      0\n",
      "1           0      1\n",
      "2           0      0\n",
      "3           0      0\n",
      "4           0      1\n",
      "...       ...    ...\n",
      "9995        0      0\n",
      "9996        0      0\n",
      "9997        0      0\n",
      "9998        1      0\n",
      "9999        0      0\n",
      "\n",
      "[10000 rows x 2 columns]>\n"
     ]
    }
   ],
   "source": [
    "# Replace all missing values first\n",
    "print(geography.info)\n",
    "geography = geography.fillna(0).replace({False: 0, True: 1})"
   ]
  },
  {
   "cell_type": "code",
   "execution_count": 15,
   "id": "f6e6179f-5bb1-4fcc-9c00-5f055c98ad1b",
   "metadata": {},
   "outputs": [],
   "source": [
    "geography = geography.replace({\n",
    "    True: 1,\n",
    "    False: 0,\n",
    "    'True': 1,\n",
    "    'False': 0\n",
    "}).astype('int64')\n",
    "gender = gender.replace({\n",
    "    True: 1,\n",
    "    False: 0,\n",
    "    'True': 1,\n",
    "    'False': 0\n",
    "}).astype('int64')"
   ]
  },
  {
   "cell_type": "code",
   "execution_count": 16,
   "id": "882cc17e-d799-4b80-bcb7-c541ac1d865a",
   "metadata": {},
   "outputs": [],
   "source": [
    "X = X.reset_index(drop=True)\n",
    "geography = geography.reset_index(drop=True)\n",
    "gender = gender.reset_index(drop=True)"
   ]
  },
  {
   "cell_type": "code",
   "execution_count": 18,
   "id": "d35db7d1-1af3-4987-908c-41f5da7a794a",
   "metadata": {},
   "outputs": [
    {
     "name": "stdout",
     "output_type": "stream",
     "text": [
      "X index: RangeIndex(start=0, stop=10000, step=1)\n",
      "geography index: RangeIndex(start=0, stop=10000, step=1)\n"
     ]
    }
   ],
   "source": [
    "print(\"X index:\", X.index)\n",
    "print(\"geography index:\", geography.index)"
   ]
  },
  {
   "cell_type": "code",
   "execution_count": 21,
   "id": "fb42253e-7ead-4af5-a3a0-afe32499266c",
   "metadata": {},
   "outputs": [],
   "source": [
    "# Force consistent dtypes before concat\n",
    "X = X.astype(float)  # Temporary conversion to prevent upcasting\n",
    "geography = geography.astype(float)\n",
    "gender = gender.astype(float)\n",
    "X=pd.concat([X, geography,gender], axis=1).astype(int)  # Convert back to int"
   ]
  },
  {
   "cell_type": "code",
   "execution_count": 22,
   "id": "d9d33647-f998-43ba-9e20-1d4de331ed6d",
   "metadata": {},
   "outputs": [
    {
     "data": {
      "text/html": [
       "<div>\n",
       "<style scoped>\n",
       "    .dataframe tbody tr th:only-of-type {\n",
       "        vertical-align: middle;\n",
       "    }\n",
       "\n",
       "    .dataframe tbody tr th {\n",
       "        vertical-align: top;\n",
       "    }\n",
       "\n",
       "    .dataframe thead th {\n",
       "        text-align: right;\n",
       "    }\n",
       "</style>\n",
       "<table border=\"1\" class=\"dataframe\">\n",
       "  <thead>\n",
       "    <tr style=\"text-align: right;\">\n",
       "      <th></th>\n",
       "      <th>CreditScore</th>\n",
       "      <th>Age</th>\n",
       "      <th>Tenure</th>\n",
       "      <th>Balance</th>\n",
       "      <th>NumOfProducts</th>\n",
       "      <th>HasCrCard</th>\n",
       "      <th>IsActiveMember</th>\n",
       "      <th>EstimatedSalary</th>\n",
       "      <th>Germany</th>\n",
       "      <th>Spain</th>\n",
       "      <th>Male</th>\n",
       "    </tr>\n",
       "  </thead>\n",
       "  <tbody>\n",
       "    <tr>\n",
       "      <th>0</th>\n",
       "      <td>619</td>\n",
       "      <td>42</td>\n",
       "      <td>2</td>\n",
       "      <td>0</td>\n",
       "      <td>1</td>\n",
       "      <td>1</td>\n",
       "      <td>1</td>\n",
       "      <td>101348</td>\n",
       "      <td>0</td>\n",
       "      <td>0</td>\n",
       "      <td>0</td>\n",
       "    </tr>\n",
       "    <tr>\n",
       "      <th>1</th>\n",
       "      <td>608</td>\n",
       "      <td>41</td>\n",
       "      <td>1</td>\n",
       "      <td>83807</td>\n",
       "      <td>1</td>\n",
       "      <td>0</td>\n",
       "      <td>1</td>\n",
       "      <td>112542</td>\n",
       "      <td>0</td>\n",
       "      <td>1</td>\n",
       "      <td>0</td>\n",
       "    </tr>\n",
       "    <tr>\n",
       "      <th>2</th>\n",
       "      <td>502</td>\n",
       "      <td>42</td>\n",
       "      <td>8</td>\n",
       "      <td>159660</td>\n",
       "      <td>3</td>\n",
       "      <td>1</td>\n",
       "      <td>0</td>\n",
       "      <td>113931</td>\n",
       "      <td>0</td>\n",
       "      <td>0</td>\n",
       "      <td>0</td>\n",
       "    </tr>\n",
       "    <tr>\n",
       "      <th>3</th>\n",
       "      <td>699</td>\n",
       "      <td>39</td>\n",
       "      <td>1</td>\n",
       "      <td>0</td>\n",
       "      <td>2</td>\n",
       "      <td>0</td>\n",
       "      <td>0</td>\n",
       "      <td>93826</td>\n",
       "      <td>0</td>\n",
       "      <td>0</td>\n",
       "      <td>0</td>\n",
       "    </tr>\n",
       "    <tr>\n",
       "      <th>4</th>\n",
       "      <td>850</td>\n",
       "      <td>43</td>\n",
       "      <td>2</td>\n",
       "      <td>125510</td>\n",
       "      <td>1</td>\n",
       "      <td>1</td>\n",
       "      <td>1</td>\n",
       "      <td>79084</td>\n",
       "      <td>0</td>\n",
       "      <td>1</td>\n",
       "      <td>0</td>\n",
       "    </tr>\n",
       "  </tbody>\n",
       "</table>\n",
       "</div>"
      ],
      "text/plain": [
       "   CreditScore  Age  Tenure  Balance  NumOfProducts  HasCrCard  \\\n",
       "0          619   42       2        0              1          1   \n",
       "1          608   41       1    83807              1          0   \n",
       "2          502   42       8   159660              3          1   \n",
       "3          699   39       1        0              2          0   \n",
       "4          850   43       2   125510              1          1   \n",
       "\n",
       "   IsActiveMember  EstimatedSalary  Germany  Spain  Male  \n",
       "0               1           101348        0      0     0  \n",
       "1               1           112542        0      1     0  \n",
       "2               0           113931        0      0     0  \n",
       "3               0            93826        0      0     0  \n",
       "4               1            79084        0      1     0  "
      ]
     },
     "execution_count": 22,
     "metadata": {},
     "output_type": "execute_result"
    }
   ],
   "source": [
    "X.head()"
   ]
  },
  {
   "cell_type": "code",
   "execution_count": 27,
   "id": "87e362ba-f1ca-47ed-96a1-828d399fc120",
   "metadata": {},
   "outputs": [],
   "source": [
    "X.to_csv('input_para.csv', index=False)"
   ]
  },
  {
   "cell_type": "code",
   "execution_count": 5,
   "id": "298c3e40-79a0-4d09-bbf1-71fda95857c6",
   "metadata": {},
   "outputs": [
    {
     "data": {
      "text/html": [
       "<div>\n",
       "<style scoped>\n",
       "    .dataframe tbody tr th:only-of-type {\n",
       "        vertical-align: middle;\n",
       "    }\n",
       "\n",
       "    .dataframe tbody tr th {\n",
       "        vertical-align: top;\n",
       "    }\n",
       "\n",
       "    .dataframe thead th {\n",
       "        text-align: right;\n",
       "    }\n",
       "</style>\n",
       "<table border=\"1\" class=\"dataframe\">\n",
       "  <thead>\n",
       "    <tr style=\"text-align: right;\">\n",
       "      <th></th>\n",
       "      <th>CreditScore</th>\n",
       "      <th>Age</th>\n",
       "      <th>Tenure</th>\n",
       "      <th>Balance</th>\n",
       "      <th>NumOfProducts</th>\n",
       "      <th>HasCrCard</th>\n",
       "      <th>IsActiveMember</th>\n",
       "      <th>EstimatedSalary</th>\n",
       "      <th>Germany</th>\n",
       "      <th>Spain</th>\n",
       "      <th>Male</th>\n",
       "    </tr>\n",
       "  </thead>\n",
       "  <tbody>\n",
       "    <tr>\n",
       "      <th>0</th>\n",
       "      <td>619</td>\n",
       "      <td>42</td>\n",
       "      <td>2</td>\n",
       "      <td>0</td>\n",
       "      <td>1</td>\n",
       "      <td>1</td>\n",
       "      <td>1</td>\n",
       "      <td>101348</td>\n",
       "      <td>0</td>\n",
       "      <td>0</td>\n",
       "      <td>0</td>\n",
       "    </tr>\n",
       "    <tr>\n",
       "      <th>1</th>\n",
       "      <td>608</td>\n",
       "      <td>41</td>\n",
       "      <td>1</td>\n",
       "      <td>83807</td>\n",
       "      <td>1</td>\n",
       "      <td>0</td>\n",
       "      <td>1</td>\n",
       "      <td>112542</td>\n",
       "      <td>0</td>\n",
       "      <td>1</td>\n",
       "      <td>0</td>\n",
       "    </tr>\n",
       "    <tr>\n",
       "      <th>2</th>\n",
       "      <td>502</td>\n",
       "      <td>42</td>\n",
       "      <td>8</td>\n",
       "      <td>159660</td>\n",
       "      <td>3</td>\n",
       "      <td>1</td>\n",
       "      <td>0</td>\n",
       "      <td>113931</td>\n",
       "      <td>0</td>\n",
       "      <td>0</td>\n",
       "      <td>0</td>\n",
       "    </tr>\n",
       "    <tr>\n",
       "      <th>3</th>\n",
       "      <td>699</td>\n",
       "      <td>39</td>\n",
       "      <td>1</td>\n",
       "      <td>0</td>\n",
       "      <td>2</td>\n",
       "      <td>0</td>\n",
       "      <td>0</td>\n",
       "      <td>93826</td>\n",
       "      <td>0</td>\n",
       "      <td>0</td>\n",
       "      <td>0</td>\n",
       "    </tr>\n",
       "    <tr>\n",
       "      <th>4</th>\n",
       "      <td>850</td>\n",
       "      <td>43</td>\n",
       "      <td>2</td>\n",
       "      <td>125510</td>\n",
       "      <td>1</td>\n",
       "      <td>1</td>\n",
       "      <td>1</td>\n",
       "      <td>79084</td>\n",
       "      <td>0</td>\n",
       "      <td>1</td>\n",
       "      <td>0</td>\n",
       "    </tr>\n",
       "  </tbody>\n",
       "</table>\n",
       "</div>"
      ],
      "text/plain": [
       "   CreditScore  Age  Tenure  Balance  NumOfProducts  HasCrCard  \\\n",
       "0          619   42       2        0              1          1   \n",
       "1          608   41       1    83807              1          0   \n",
       "2          502   42       8   159660              3          1   \n",
       "3          699   39       1        0              2          0   \n",
       "4          850   43       2   125510              1          1   \n",
       "\n",
       "   IsActiveMember  EstimatedSalary  Germany  Spain  Male  \n",
       "0               1           101348        0      0     0  \n",
       "1               1           112542        0      1     0  \n",
       "2               0           113931        0      0     0  \n",
       "3               0            93826        0      0     0  \n",
       "4               1            79084        0      1     0  "
      ]
     },
     "execution_count": 5,
     "metadata": {},
     "output_type": "execute_result"
    }
   ],
   "source": [
    "X=pd.read_csv(\"input_para.csv\")\n",
    "X.head()"
   ]
  },
  {
   "cell_type": "markdown",
   "id": "f6043c1d-8e40-4322-8eae-457ff86d3b2d",
   "metadata": {},
   "source": [
    "#### Splitting the dataset into training and test set"
   ]
  },
  {
   "cell_type": "code",
   "execution_count": 6,
   "id": "4a7e114a-197a-464b-8938-6c6d9e4e4cca",
   "metadata": {},
   "outputs": [],
   "source": [
    "from sklearn.model_selection import train_test_split"
   ]
  },
  {
   "cell_type": "code",
   "execution_count": 7,
   "id": "60f09c32-7f47-45ad-99f2-e96300f9e5b9",
   "metadata": {},
   "outputs": [],
   "source": [
    "X_train,X_test,y_train,y_test= train_test_split(X,y,test_size=0.2,random_state=0)"
   ]
  },
  {
   "cell_type": "markdown",
   "id": "095f43d6-26ae-4a0c-a59d-a1a3f7647c84",
   "metadata": {},
   "source": [
    "#### Feature Scaling"
   ]
  },
  {
   "cell_type": "code",
   "execution_count": 8,
   "id": "c1f638a0-4fbf-434b-9922-731573214267",
   "metadata": {},
   "outputs": [],
   "source": [
    "from sklearn.preprocessing import StandardScaler"
   ]
  },
  {
   "cell_type": "code",
   "execution_count": 9,
   "id": "172c32fe-48d5-4199-b9e6-02ba2ecaab2c",
   "metadata": {},
   "outputs": [],
   "source": [
    "sc = StandardScaler()\n",
    "X_train = sc.fit_transform(X_train)\n",
    "X_test = sc.transform(X_test)"
   ]
  },
  {
   "cell_type": "markdown",
   "id": "b25fd15e-a0ef-4794-8056-a1ccfb21a0c0",
   "metadata": {},
   "source": [
    "1)learn what is Std Scalar, min and max scalar\n",
    "2)learn why we apply fit_transform on train and transform on train data"
   ]
  },
  {
   "cell_type": "code",
   "execution_count": 10,
   "id": "0574be5b-1c82-4ea5-a4f7-ddde83c4e884",
   "metadata": {},
   "outputs": [
    {
     "data": {
      "text/plain": [
       "array([[ 0.16958176, -0.46460796,  0.00666099, ..., -0.5698444 ,\n",
       "         1.74309049, -1.09168714],\n",
       "       [-2.30455945,  0.30102557, -1.37744033, ...,  1.75486502,\n",
       "        -0.57369368,  0.91601335],\n",
       "       [-1.19119591, -0.94312892, -1.031415  , ..., -0.5698444 ,\n",
       "        -0.57369368, -1.09168714],\n",
       "       ...,\n",
       "       [ 0.9015152 , -0.36890377,  0.00666099, ..., -0.5698444 ,\n",
       "        -0.57369368,  0.91601335],\n",
       "       [-0.62420521, -0.08179119,  1.39076231, ..., -0.5698444 ,\n",
       "         1.74309049, -1.09168714],\n",
       "       [-0.28401079,  0.87525072, -1.37744033, ...,  1.75486502,\n",
       "        -0.57369368, -1.09168714]])"
      ]
     },
     "execution_count": 10,
     "metadata": {},
     "output_type": "execute_result"
    }
   ],
   "source": [
    "X_train"
   ]
  },
  {
   "cell_type": "code",
   "execution_count": 11,
   "id": "674c18b5-1199-4323-97c0-18208fb0d542",
   "metadata": {},
   "outputs": [
    {
     "data": {
      "text/plain": [
       "array([[-0.55204276, -0.36890377,  1.04473698, ...,  1.75486502,\n",
       "        -0.57369368, -1.09168714],\n",
       "       [-1.31490297,  0.10961719, -1.031415  , ..., -0.5698444 ,\n",
       "        -0.57369368, -1.09168714],\n",
       "       [ 0.57162971,  0.30102557,  1.04473698, ..., -0.5698444 ,\n",
       "         1.74309049, -1.09168714],\n",
       "       ...,\n",
       "       [-0.74791227, -0.27319958, -1.37744033, ..., -0.5698444 ,\n",
       "         1.74309049,  0.91601335],\n",
       "       [-0.00566991, -0.46460796, -0.33936434, ...,  1.75486502,\n",
       "        -0.57369368,  0.91601335],\n",
       "       [-0.79945688, -0.84742473,  1.04473698, ...,  1.75486502,\n",
       "        -0.57369368,  0.91601335]])"
      ]
     },
     "execution_count": 11,
     "metadata": {},
     "output_type": "execute_result"
    }
   ],
   "source": [
    "X_test"
   ]
  },
  {
   "cell_type": "code",
   "execution_count": 12,
   "id": "00e76510-0ea5-424f-a9d0-92e6bd150441",
   "metadata": {},
   "outputs": [
    {
     "data": {
      "text/plain": [
       "(8000, 11)"
      ]
     },
     "execution_count": 12,
     "metadata": {},
     "output_type": "execute_result"
    }
   ],
   "source": [
    "X_train.shape"
   ]
  },
  {
   "cell_type": "markdown",
   "id": "e38b4bb3-47bc-47c1-a270-ee7f36437ad9",
   "metadata": {},
   "source": [
    "### Now lets create ANN"
   ]
  },
  {
   "cell_type": "code",
   "execution_count": 13,
   "id": "f8c61798-2e0e-4cf1-8907-b82f0c0f850c",
   "metadata": {},
   "outputs": [],
   "source": [
    "from tensorflow.keras.models import Sequential\n",
    "from tensorflow.keras.layers import Dense\n",
    "from tensorflow.keras.layers import LeakyReLU,PReLU,ELU,ReLU\n",
    "from tensorflow.keras.layers import Dropout"
   ]
  },
  {
   "cell_type": "code",
   "execution_count": 14,
   "id": "7f1da873-a733-473d-ac36-9ec79c24bf18",
   "metadata": {},
   "outputs": [
    {
     "name": "stdout",
     "output_type": "stream",
     "text": [
      "WARNING:tensorflow:From C:\\Anaconda\\envs\\tf_gpu\\Lib\\site-packages\\keras\\src\\backend.py:873: The name tf.get_default_graph is deprecated. Please use tf.compat.v1.get_default_graph instead.\n",
      "\n"
     ]
    }
   ],
   "source": [
    "### Lets initialize the ANN\n",
    "classifier=Sequential()"
   ]
  },
  {
   "cell_type": "code",
   "execution_count": 15,
   "id": "c9937917-2321-421e-8bd5-1891aaef2a2b",
   "metadata": {},
   "outputs": [],
   "source": [
    "### Adding the input layer\n",
    "classifier.add(Dense(units=11,activation='relu'))"
   ]
  },
  {
   "cell_type": "code",
   "execution_count": 16,
   "id": "7162d7c0-8d67-44f6-bc8f-f607a09ca48a",
   "metadata": {},
   "outputs": [],
   "source": [
    "### adding the first hidden layer\n",
    "classifier.add(Dense(units=7,activation='relu'))"
   ]
  },
  {
   "cell_type": "code",
   "execution_count": 17,
   "id": "5b9596df-23c7-4e37-ba8a-704efdc69b41",
   "metadata": {},
   "outputs": [],
   "source": [
    "### adding the second hidden layer\n",
    "classifier.add(Dense(units=6,activation='relu'))"
   ]
  },
  {
   "cell_type": "code",
   "execution_count": 18,
   "id": "3f7dc81a-90a6-43be-aafe-d7b737090105",
   "metadata": {},
   "outputs": [],
   "source": [
    "### output layer\n",
    "classifier.add(Dense(1,activation='sigmoid'))"
   ]
  },
  {
   "cell_type": "code",
   "execution_count": 19,
   "id": "660dfc78-7cc3-4fea-90f2-56853b806987",
   "metadata": {},
   "outputs": [
    {
     "name": "stdout",
     "output_type": "stream",
     "text": [
      "WARNING:tensorflow:From C:\\Anaconda\\envs\\tf_gpu\\Lib\\site-packages\\keras\\src\\optimizers\\__init__.py:309: The name tf.train.Optimizer is deprecated. Please use tf.compat.v1.train.Optimizer instead.\n",
      "\n"
     ]
    }
   ],
   "source": [
    "classifier.compile(optimizer='adam',loss='binary_crossentropy',metrics=['accuracy'])"
   ]
  },
  {
   "cell_type": "code",
   "execution_count": 20,
   "id": "9d58fc18-f31a-49a1-871d-02300471242c",
   "metadata": {},
   "outputs": [],
   "source": [
    "import tensorflow\n",
    "opt=tensorflow.keras.optimizers.Adam(learning_rate=0.01)"
   ]
  },
  {
   "cell_type": "markdown",
   "id": "a675a2e4-7bfe-4e3c-b680-82532c7b9a71",
   "metadata": {},
   "source": [
    "#### Training the model"
   ]
  },
  {
   "cell_type": "code",
   "execution_count": 27,
   "id": "56377c39-b59f-4ab4-8f43-2eed49510607",
   "metadata": {
    "scrolled": true
   },
   "outputs": [
    {
     "name": "stdout",
     "output_type": "stream",
     "text": [
      "Epoch 1/1000\n",
      "WARNING:tensorflow:From C:\\Anaconda\\envs\\tf_gpu\\Lib\\site-packages\\keras\\src\\utils\\tf_utils.py:492: The name tf.ragged.RaggedTensorValue is deprecated. Please use tf.compat.v1.ragged.RaggedTensorValue instead.\n",
      "\n",
      "WARNING:tensorflow:From C:\\Anaconda\\envs\\tf_gpu\\Lib\\site-packages\\keras\\src\\engine\\base_layer_utils.py:384: The name tf.executing_eagerly_outside_functions is deprecated. Please use tf.compat.v1.executing_eagerly_outside_functions instead.\n",
      "\n",
      "543/543 [==============================] - 3s 2ms/step - loss: 0.4922 - accuracy: 0.7960 - val_loss: 0.4541 - val_accuracy: 0.7951\n",
      "Epoch 2/1000\n",
      "543/543 [==============================] - 1s 2ms/step - loss: 0.4398 - accuracy: 0.7964 - val_loss: 0.4314 - val_accuracy: 0.7951\n",
      "Epoch 3/1000\n",
      "543/543 [==============================] - 1s 2ms/step - loss: 0.4214 - accuracy: 0.7980 - val_loss: 0.4200 - val_accuracy: 0.7973\n",
      "Epoch 4/1000\n",
      "543/543 [==============================] - 1s 2ms/step - loss: 0.4074 - accuracy: 0.8177 - val_loss: 0.4071 - val_accuracy: 0.8276\n",
      "Epoch 5/1000\n",
      "543/543 [==============================] - 1s 2ms/step - loss: 0.3927 - accuracy: 0.8341 - val_loss: 0.3959 - val_accuracy: 0.8332\n",
      "Epoch 6/1000\n",
      "543/543 [==============================] - 1s 2ms/step - loss: 0.3784 - accuracy: 0.8441 - val_loss: 0.3825 - val_accuracy: 0.8381\n",
      "Epoch 7/1000\n",
      "543/543 [==============================] - 1s 2ms/step - loss: 0.3646 - accuracy: 0.8472 - val_loss: 0.3735 - val_accuracy: 0.8474\n",
      "Epoch 8/1000\n",
      "543/543 [==============================] - 1s 2ms/step - loss: 0.3577 - accuracy: 0.8533 - val_loss: 0.3665 - val_accuracy: 0.8500\n",
      "Epoch 9/1000\n",
      "543/543 [==============================] - 1s 1ms/step - loss: 0.3497 - accuracy: 0.8588 - val_loss: 0.3605 - val_accuracy: 0.8549\n",
      "Epoch 10/1000\n",
      "543/543 [==============================] - 1s 2ms/step - loss: 0.3458 - accuracy: 0.8568 - val_loss: 0.3601 - val_accuracy: 0.8527\n",
      "Epoch 11/1000\n",
      "543/543 [==============================] - 1s 2ms/step - loss: 0.3405 - accuracy: 0.8586 - val_loss: 0.3563 - val_accuracy: 0.8549\n",
      "Epoch 12/1000\n",
      "543/543 [==============================] - 1s 2ms/step - loss: 0.3374 - accuracy: 0.8609 - val_loss: 0.3580 - val_accuracy: 0.8542\n",
      "Epoch 13/1000\n",
      "543/543 [==============================] - 1s 2ms/step - loss: 0.3354 - accuracy: 0.8645 - val_loss: 0.3557 - val_accuracy: 0.8508\n",
      "Epoch 14/1000\n",
      "543/543 [==============================] - 1s 2ms/step - loss: 0.3349 - accuracy: 0.8585 - val_loss: 0.3562 - val_accuracy: 0.8519\n",
      "Epoch 15/1000\n",
      "543/543 [==============================] - 1s 2ms/step - loss: 0.3340 - accuracy: 0.8597 - val_loss: 0.3557 - val_accuracy: 0.8523\n",
      "Epoch 16/1000\n",
      "543/543 [==============================] - 1s 1ms/step - loss: 0.3323 - accuracy: 0.8633 - val_loss: 0.3514 - val_accuracy: 0.8575\n",
      "Epoch 17/1000\n",
      "543/543 [==============================] - 1s 2ms/step - loss: 0.3300 - accuracy: 0.8649 - val_loss: 0.3567 - val_accuracy: 0.8500\n",
      "Epoch 18/1000\n",
      "543/543 [==============================] - 1s 2ms/step - loss: 0.3305 - accuracy: 0.8644 - val_loss: 0.3567 - val_accuracy: 0.8534\n",
      "Epoch 19/1000\n",
      "543/543 [==============================] - 1s 2ms/step - loss: 0.3289 - accuracy: 0.8636 - val_loss: 0.3521 - val_accuracy: 0.8564\n",
      "Epoch 20/1000\n",
      "543/543 [==============================] - 1s 2ms/step - loss: 0.3292 - accuracy: 0.8640 - val_loss: 0.3506 - val_accuracy: 0.8545\n",
      "Epoch 21/1000\n",
      "543/543 [==============================] - 1s 2ms/step - loss: 0.3283 - accuracy: 0.8660 - val_loss: 0.3500 - val_accuracy: 0.8583\n",
      "Epoch 22/1000\n",
      "543/543 [==============================] - 1s 2ms/step - loss: 0.3274 - accuracy: 0.8634 - val_loss: 0.3514 - val_accuracy: 0.8512\n",
      "Epoch 23/1000\n",
      "543/543 [==============================] - 1s 2ms/step - loss: 0.3266 - accuracy: 0.8649 - val_loss: 0.3521 - val_accuracy: 0.8542\n",
      "Epoch 24/1000\n",
      "543/543 [==============================] - 1s 2ms/step - loss: 0.3261 - accuracy: 0.8658 - val_loss: 0.3504 - val_accuracy: 0.8530\n",
      "Epoch 25/1000\n",
      "543/543 [==============================] - 1s 2ms/step - loss: 0.3245 - accuracy: 0.8666 - val_loss: 0.3540 - val_accuracy: 0.8493\n",
      "Epoch 26/1000\n",
      "543/543 [==============================] - 1s 2ms/step - loss: 0.3247 - accuracy: 0.8669 - val_loss: 0.3531 - val_accuracy: 0.8549\n",
      "Epoch 27/1000\n",
      "543/543 [==============================] - 1s 2ms/step - loss: 0.3245 - accuracy: 0.8655 - val_loss: 0.3489 - val_accuracy: 0.8571\n",
      "Epoch 28/1000\n",
      "543/543 [==============================] - 1s 2ms/step - loss: 0.3240 - accuracy: 0.8668 - val_loss: 0.3542 - val_accuracy: 0.8493\n",
      "Epoch 29/1000\n",
      "543/543 [==============================] - 1s 2ms/step - loss: 0.3245 - accuracy: 0.8636 - val_loss: 0.3500 - val_accuracy: 0.8519\n",
      "Epoch 30/1000\n",
      "543/543 [==============================] - 1s 2ms/step - loss: 0.3231 - accuracy: 0.8666 - val_loss: 0.3514 - val_accuracy: 0.8523\n",
      "Epoch 31/1000\n",
      "543/543 [==============================] - 1s 2ms/step - loss: 0.3222 - accuracy: 0.8662 - val_loss: 0.3494 - val_accuracy: 0.8527\n",
      "Epoch 32/1000\n",
      "543/543 [==============================] - 1s 2ms/step - loss: 0.3223 - accuracy: 0.8664 - val_loss: 0.3513 - val_accuracy: 0.8500\n",
      "Epoch 33/1000\n",
      "543/543 [==============================] - 1s 2ms/step - loss: 0.3221 - accuracy: 0.8651 - val_loss: 0.3517 - val_accuracy: 0.8553\n",
      "Epoch 34/1000\n",
      "543/543 [==============================] - 1s 2ms/step - loss: 0.3211 - accuracy: 0.8669 - val_loss: 0.3509 - val_accuracy: 0.8523\n",
      "Epoch 35/1000\n",
      "543/543 [==============================] - 1s 1ms/step - loss: 0.3225 - accuracy: 0.8651 - val_loss: 0.3492 - val_accuracy: 0.8504\n",
      "Epoch 36/1000\n",
      "543/543 [==============================] - 1s 2ms/step - loss: 0.3212 - accuracy: 0.8647 - val_loss: 0.3508 - val_accuracy: 0.8568\n",
      "Epoch 37/1000\n",
      "543/543 [==============================] - 1s 1ms/step - loss: 0.3205 - accuracy: 0.8673 - val_loss: 0.3512 - val_accuracy: 0.8556\n",
      "Epoch 38/1000\n",
      "543/543 [==============================] - 1s 1ms/step - loss: 0.3206 - accuracy: 0.8653 - val_loss: 0.3551 - val_accuracy: 0.8553\n",
      "Epoch 39/1000\n",
      "543/543 [==============================] - 1s 1ms/step - loss: 0.3211 - accuracy: 0.8656 - val_loss: 0.3513 - val_accuracy: 0.8493\n",
      "Epoch 40/1000\n",
      "543/543 [==============================] - 1s 2ms/step - loss: 0.3213 - accuracy: 0.8669 - val_loss: 0.3535 - val_accuracy: 0.8504\n",
      "Epoch 41/1000\n",
      "543/543 [==============================] - 1s 2ms/step - loss: 0.3208 - accuracy: 0.8656 - val_loss: 0.3492 - val_accuracy: 0.8575\n",
      "Epoch 42/1000\n",
      "543/543 [==============================] - 1s 2ms/step - loss: 0.3189 - accuracy: 0.8693 - val_loss: 0.3517 - val_accuracy: 0.8497\n",
      "Epoch 43/1000\n",
      "543/543 [==============================] - 1s 1ms/step - loss: 0.3199 - accuracy: 0.8675 - val_loss: 0.3481 - val_accuracy: 0.8542\n",
      "Epoch 44/1000\n",
      "543/543 [==============================] - 1s 1ms/step - loss: 0.3194 - accuracy: 0.8675 - val_loss: 0.3494 - val_accuracy: 0.8512\n",
      "Epoch 45/1000\n",
      "543/543 [==============================] - 1s 1ms/step - loss: 0.3186 - accuracy: 0.8684 - val_loss: 0.3522 - val_accuracy: 0.8538\n",
      "Epoch 46/1000\n",
      "543/543 [==============================] - 1s 1ms/step - loss: 0.3195 - accuracy: 0.8682 - val_loss: 0.3496 - val_accuracy: 0.8530\n",
      "Epoch 47/1000\n",
      "543/543 [==============================] - 1s 1ms/step - loss: 0.3191 - accuracy: 0.8669 - val_loss: 0.3525 - val_accuracy: 0.8542\n",
      "Epoch 48/1000\n",
      "543/543 [==============================] - 1s 1ms/step - loss: 0.3191 - accuracy: 0.8662 - val_loss: 0.3532 - val_accuracy: 0.8478\n",
      "Epoch 49/1000\n",
      "543/543 [==============================] - 1s 1ms/step - loss: 0.3186 - accuracy: 0.8658 - val_loss: 0.3488 - val_accuracy: 0.8527\n",
      "Epoch 50/1000\n",
      "543/543 [==============================] - 1s 1ms/step - loss: 0.3190 - accuracy: 0.8662 - val_loss: 0.3510 - val_accuracy: 0.8523\n",
      "Epoch 51/1000\n",
      "543/543 [==============================] - 1s 2ms/step - loss: 0.3186 - accuracy: 0.8673 - val_loss: 0.3507 - val_accuracy: 0.8527\n",
      "Epoch 52/1000\n",
      "543/543 [==============================] - 1s 2ms/step - loss: 0.3183 - accuracy: 0.8662 - val_loss: 0.3518 - val_accuracy: 0.8497\n",
      "Epoch 53/1000\n",
      "543/543 [==============================] - 1s 2ms/step - loss: 0.3175 - accuracy: 0.8640 - val_loss: 0.3510 - val_accuracy: 0.8534\n",
      "Epoch 54/1000\n",
      "543/543 [==============================] - 1s 2ms/step - loss: 0.3183 - accuracy: 0.8666 - val_loss: 0.3512 - val_accuracy: 0.8523\n",
      "Epoch 55/1000\n",
      "543/543 [==============================] - 1s 2ms/step - loss: 0.3177 - accuracy: 0.8664 - val_loss: 0.3520 - val_accuracy: 0.8549\n",
      "Epoch 56/1000\n",
      "543/543 [==============================] - 1s 2ms/step - loss: 0.3183 - accuracy: 0.8682 - val_loss: 0.3529 - val_accuracy: 0.8474\n",
      "Epoch 57/1000\n",
      "543/543 [==============================] - 1s 2ms/step - loss: 0.3170 - accuracy: 0.8675 - val_loss: 0.3496 - val_accuracy: 0.8542\n",
      "Epoch 58/1000\n",
      "543/543 [==============================] - 1s 2ms/step - loss: 0.3170 - accuracy: 0.8658 - val_loss: 0.3540 - val_accuracy: 0.8515\n",
      "Epoch 59/1000\n",
      "543/543 [==============================] - 1s 2ms/step - loss: 0.3176 - accuracy: 0.8660 - val_loss: 0.3499 - val_accuracy: 0.8527\n",
      "Epoch 60/1000\n",
      "543/543 [==============================] - 1s 2ms/step - loss: 0.3175 - accuracy: 0.8660 - val_loss: 0.3510 - val_accuracy: 0.8523\n",
      "Epoch 61/1000\n",
      "543/543 [==============================] - 1s 2ms/step - loss: 0.3162 - accuracy: 0.8658 - val_loss: 0.3532 - val_accuracy: 0.8545\n",
      "Epoch 62/1000\n",
      "543/543 [==============================] - 1s 2ms/step - loss: 0.3167 - accuracy: 0.8679 - val_loss: 0.3500 - val_accuracy: 0.8519\n",
      "Epoch 63/1000\n",
      "543/543 [==============================] - 1s 2ms/step - loss: 0.3160 - accuracy: 0.8675 - val_loss: 0.3532 - val_accuracy: 0.8500\n",
      "Epoch 64/1000\n",
      "543/543 [==============================] - 1s 2ms/step - loss: 0.3156 - accuracy: 0.8686 - val_loss: 0.3490 - val_accuracy: 0.8527\n",
      "Epoch 65/1000\n",
      "543/543 [==============================] - 1s 2ms/step - loss: 0.3171 - accuracy: 0.8668 - val_loss: 0.3490 - val_accuracy: 0.8527\n",
      "Epoch 66/1000\n",
      "543/543 [==============================] - 1s 2ms/step - loss: 0.3157 - accuracy: 0.8691 - val_loss: 0.3502 - val_accuracy: 0.8527\n",
      "Epoch 67/1000\n",
      "543/543 [==============================] - 1s 2ms/step - loss: 0.3151 - accuracy: 0.8706 - val_loss: 0.3538 - val_accuracy: 0.8530\n",
      "Epoch 68/1000\n",
      "543/543 [==============================] - 1s 2ms/step - loss: 0.3165 - accuracy: 0.8660 - val_loss: 0.3531 - val_accuracy: 0.8489\n",
      "Epoch 69/1000\n",
      "543/543 [==============================] - 1s 2ms/step - loss: 0.3162 - accuracy: 0.8679 - val_loss: 0.3530 - val_accuracy: 0.8545\n",
      "Epoch 70/1000\n",
      "543/543 [==============================] - 1s 1ms/step - loss: 0.3150 - accuracy: 0.8669 - val_loss: 0.3513 - val_accuracy: 0.8556\n",
      "Epoch 71/1000\n",
      "543/543 [==============================] - 1s 2ms/step - loss: 0.3147 - accuracy: 0.8653 - val_loss: 0.3547 - val_accuracy: 0.8534\n",
      "Epoch 72/1000\n",
      "543/543 [==============================] - 1s 2ms/step - loss: 0.3145 - accuracy: 0.8673 - val_loss: 0.3495 - val_accuracy: 0.8568\n",
      "Epoch 73/1000\n",
      "543/543 [==============================] - 1s 2ms/step - loss: 0.3152 - accuracy: 0.8688 - val_loss: 0.3503 - val_accuracy: 0.8553\n",
      "Epoch 74/1000\n",
      "543/543 [==============================] - 1s 2ms/step - loss: 0.3143 - accuracy: 0.8673 - val_loss: 0.3498 - val_accuracy: 0.8527\n",
      "Epoch 75/1000\n",
      "543/543 [==============================] - 1s 2ms/step - loss: 0.3151 - accuracy: 0.8664 - val_loss: 0.3496 - val_accuracy: 0.8553\n",
      "Epoch 76/1000\n",
      "543/543 [==============================] - 1s 2ms/step - loss: 0.3134 - accuracy: 0.8680 - val_loss: 0.3533 - val_accuracy: 0.8545\n",
      "Epoch 77/1000\n",
      "543/543 [==============================] - 1s 2ms/step - loss: 0.3141 - accuracy: 0.8679 - val_loss: 0.3495 - val_accuracy: 0.8583\n",
      "Epoch 78/1000\n",
      "543/543 [==============================] - 1s 2ms/step - loss: 0.3135 - accuracy: 0.8686 - val_loss: 0.3512 - val_accuracy: 0.8538\n",
      "Epoch 79/1000\n",
      "543/543 [==============================] - 1s 2ms/step - loss: 0.3144 - accuracy: 0.8686 - val_loss: 0.3526 - val_accuracy: 0.8575\n",
      "Epoch 80/1000\n",
      "543/543 [==============================] - 1s 2ms/step - loss: 0.3137 - accuracy: 0.8660 - val_loss: 0.3473 - val_accuracy: 0.8594\n",
      "Epoch 81/1000\n",
      "543/543 [==============================] - 1s 2ms/step - loss: 0.3135 - accuracy: 0.8684 - val_loss: 0.3541 - val_accuracy: 0.8549\n",
      "Epoch 82/1000\n",
      "543/543 [==============================] - 1s 2ms/step - loss: 0.3134 - accuracy: 0.8684 - val_loss: 0.3512 - val_accuracy: 0.8497\n",
      "Epoch 83/1000\n",
      "543/543 [==============================] - 1s 2ms/step - loss: 0.3132 - accuracy: 0.8697 - val_loss: 0.3533 - val_accuracy: 0.8538\n",
      "Epoch 84/1000\n",
      "543/543 [==============================] - 1s 2ms/step - loss: 0.3135 - accuracy: 0.8715 - val_loss: 0.3497 - val_accuracy: 0.8568\n",
      "Epoch 85/1000\n",
      "543/543 [==============================] - 1s 2ms/step - loss: 0.3135 - accuracy: 0.8680 - val_loss: 0.3531 - val_accuracy: 0.8542\n",
      "Epoch 86/1000\n",
      "543/543 [==============================] - 1s 2ms/step - loss: 0.3124 - accuracy: 0.8701 - val_loss: 0.3549 - val_accuracy: 0.8527\n",
      "Epoch 87/1000\n",
      "543/543 [==============================] - 1s 2ms/step - loss: 0.3133 - accuracy: 0.8699 - val_loss: 0.3511 - val_accuracy: 0.8583\n",
      "Epoch 88/1000\n",
      "543/543 [==============================] - 1s 2ms/step - loss: 0.3126 - accuracy: 0.8686 - val_loss: 0.3529 - val_accuracy: 0.8564\n",
      "Epoch 89/1000\n",
      "543/543 [==============================] - 1s 2ms/step - loss: 0.3120 - accuracy: 0.8706 - val_loss: 0.3536 - val_accuracy: 0.8553\n",
      "Epoch 90/1000\n",
      "543/543 [==============================] - 1s 2ms/step - loss: 0.3122 - accuracy: 0.8712 - val_loss: 0.3540 - val_accuracy: 0.8538\n",
      "Epoch 91/1000\n",
      "543/543 [==============================] - 1s 1ms/step - loss: 0.3115 - accuracy: 0.8712 - val_loss: 0.3566 - val_accuracy: 0.8549\n",
      "Epoch 92/1000\n",
      "543/543 [==============================] - 1s 2ms/step - loss: 0.3110 - accuracy: 0.8738 - val_loss: 0.3564 - val_accuracy: 0.8508\n",
      "Epoch 93/1000\n",
      "543/543 [==============================] - 1s 2ms/step - loss: 0.3115 - accuracy: 0.8704 - val_loss: 0.3502 - val_accuracy: 0.8579\n",
      "Epoch 94/1000\n",
      "543/543 [==============================] - 1s 2ms/step - loss: 0.3115 - accuracy: 0.8723 - val_loss: 0.3580 - val_accuracy: 0.8482\n",
      "Epoch 95/1000\n",
      "543/543 [==============================] - 1s 2ms/step - loss: 0.3116 - accuracy: 0.8697 - val_loss: 0.3552 - val_accuracy: 0.8508\n",
      "Epoch 96/1000\n",
      "543/543 [==============================] - 1s 2ms/step - loss: 0.3119 - accuracy: 0.8723 - val_loss: 0.3524 - val_accuracy: 0.8575\n",
      "Epoch 97/1000\n",
      "543/543 [==============================] - 1s 2ms/step - loss: 0.3115 - accuracy: 0.8721 - val_loss: 0.3512 - val_accuracy: 0.8575\n",
      "Epoch 98/1000\n",
      "543/543 [==============================] - 1s 2ms/step - loss: 0.3119 - accuracy: 0.8715 - val_loss: 0.3525 - val_accuracy: 0.8560\n",
      "Epoch 99/1000\n",
      "543/543 [==============================] - 1s 2ms/step - loss: 0.3108 - accuracy: 0.8712 - val_loss: 0.3598 - val_accuracy: 0.8583\n",
      "Epoch 100/1000\n",
      "543/543 [==============================] - 1s 2ms/step - loss: 0.3101 - accuracy: 0.8747 - val_loss: 0.3564 - val_accuracy: 0.8564\n",
      "Epoch 101/1000\n",
      "543/543 [==============================] - 1s 2ms/step - loss: 0.3111 - accuracy: 0.8723 - val_loss: 0.3509 - val_accuracy: 0.8568\n",
      "Epoch 102/1000\n",
      "543/543 [==============================] - 1s 2ms/step - loss: 0.3099 - accuracy: 0.8725 - val_loss: 0.3545 - val_accuracy: 0.8583\n",
      "Epoch 103/1000\n",
      "543/543 [==============================] - 1s 2ms/step - loss: 0.3101 - accuracy: 0.8732 - val_loss: 0.3540 - val_accuracy: 0.8556\n",
      "Epoch 104/1000\n",
      "543/543 [==============================] - 1s 2ms/step - loss: 0.3087 - accuracy: 0.8734 - val_loss: 0.3586 - val_accuracy: 0.8527\n",
      "Epoch 105/1000\n",
      "543/543 [==============================] - 1s 2ms/step - loss: 0.3111 - accuracy: 0.8739 - val_loss: 0.3557 - val_accuracy: 0.8534\n",
      "Epoch 106/1000\n",
      "543/543 [==============================] - 1s 2ms/step - loss: 0.3094 - accuracy: 0.8714 - val_loss: 0.3542 - val_accuracy: 0.8556\n",
      "Epoch 107/1000\n",
      "543/543 [==============================] - 1s 2ms/step - loss: 0.3076 - accuracy: 0.8725 - val_loss: 0.3533 - val_accuracy: 0.8564\n",
      "Epoch 108/1000\n",
      "543/543 [==============================] - 1s 2ms/step - loss: 0.3086 - accuracy: 0.8728 - val_loss: 0.3512 - val_accuracy: 0.8601\n",
      "Epoch 109/1000\n",
      "543/543 [==============================] - 1s 2ms/step - loss: 0.3094 - accuracy: 0.8725 - val_loss: 0.3523 - val_accuracy: 0.8560\n",
      "Epoch 110/1000\n",
      "543/543 [==============================] - 1s 2ms/step - loss: 0.3092 - accuracy: 0.8727 - val_loss: 0.3542 - val_accuracy: 0.8549\n",
      "Epoch 111/1000\n",
      "543/543 [==============================] - 1s 2ms/step - loss: 0.3086 - accuracy: 0.8732 - val_loss: 0.3554 - val_accuracy: 0.8560\n",
      "Epoch 112/1000\n",
      "543/543 [==============================] - 1s 2ms/step - loss: 0.3072 - accuracy: 0.8745 - val_loss: 0.3559 - val_accuracy: 0.8556\n",
      "Epoch 113/1000\n",
      "543/543 [==============================] - 1s 2ms/step - loss: 0.3079 - accuracy: 0.8730 - val_loss: 0.3539 - val_accuracy: 0.8568\n",
      "Epoch 114/1000\n",
      "543/543 [==============================] - 1s 2ms/step - loss: 0.3088 - accuracy: 0.8728 - val_loss: 0.3558 - val_accuracy: 0.8568\n",
      "Epoch 115/1000\n",
      "543/543 [==============================] - 1s 2ms/step - loss: 0.3082 - accuracy: 0.8730 - val_loss: 0.3532 - val_accuracy: 0.8553\n",
      "Epoch 116/1000\n",
      "543/543 [==============================] - 1s 2ms/step - loss: 0.3076 - accuracy: 0.8704 - val_loss: 0.3522 - val_accuracy: 0.8594\n",
      "Epoch 117/1000\n",
      "543/543 [==============================] - 1s 2ms/step - loss: 0.3075 - accuracy: 0.8739 - val_loss: 0.3643 - val_accuracy: 0.8527\n",
      "Epoch 118/1000\n",
      "543/543 [==============================] - 1s 2ms/step - loss: 0.3081 - accuracy: 0.8743 - val_loss: 0.3546 - val_accuracy: 0.8568\n",
      "Epoch 119/1000\n",
      "543/543 [==============================] - 1s 2ms/step - loss: 0.3076 - accuracy: 0.8721 - val_loss: 0.3620 - val_accuracy: 0.8500\n",
      "Epoch 120/1000\n",
      "543/543 [==============================] - 1s 2ms/step - loss: 0.3073 - accuracy: 0.8723 - val_loss: 0.3551 - val_accuracy: 0.8575\n",
      "Epoch 121/1000\n",
      "543/543 [==============================] - 1s 2ms/step - loss: 0.3068 - accuracy: 0.8728 - val_loss: 0.3581 - val_accuracy: 0.8564\n",
      "Epoch 122/1000\n",
      "543/543 [==============================] - 1s 2ms/step - loss: 0.3062 - accuracy: 0.8756 - val_loss: 0.3536 - val_accuracy: 0.8594\n",
      "Epoch 123/1000\n",
      "543/543 [==============================] - 1s 2ms/step - loss: 0.3070 - accuracy: 0.8743 - val_loss: 0.3556 - val_accuracy: 0.8542\n",
      "Epoch 124/1000\n",
      "543/543 [==============================] - 1s 2ms/step - loss: 0.3065 - accuracy: 0.8754 - val_loss: 0.3538 - val_accuracy: 0.8530\n",
      "Epoch 125/1000\n",
      "543/543 [==============================] - 1s 2ms/step - loss: 0.3066 - accuracy: 0.8752 - val_loss: 0.3554 - val_accuracy: 0.8534\n",
      "Epoch 126/1000\n",
      "543/543 [==============================] - 1s 2ms/step - loss: 0.3054 - accuracy: 0.8776 - val_loss: 0.3544 - val_accuracy: 0.8583\n",
      "Epoch 127/1000\n",
      "543/543 [==============================] - 1s 2ms/step - loss: 0.3066 - accuracy: 0.8767 - val_loss: 0.3550 - val_accuracy: 0.8571\n",
      "Epoch 128/1000\n",
      "543/543 [==============================] - 2s 3ms/step - loss: 0.3063 - accuracy: 0.8739 - val_loss: 0.3571 - val_accuracy: 0.8534\n",
      "Epoch 129/1000\n",
      "543/543 [==============================] - 1s 2ms/step - loss: 0.3058 - accuracy: 0.8787 - val_loss: 0.3565 - val_accuracy: 0.8527\n",
      "Epoch 130/1000\n",
      "543/543 [==============================] - 1s 2ms/step - loss: 0.3058 - accuracy: 0.8739 - val_loss: 0.3566 - val_accuracy: 0.8545\n",
      "Epoch 131/1000\n",
      "543/543 [==============================] - 1s 2ms/step - loss: 0.3050 - accuracy: 0.8752 - val_loss: 0.3534 - val_accuracy: 0.8575\n",
      "Epoch 132/1000\n",
      "543/543 [==============================] - 1s 2ms/step - loss: 0.3054 - accuracy: 0.8758 - val_loss: 0.3583 - val_accuracy: 0.8542\n",
      "Epoch 133/1000\n",
      "543/543 [==============================] - 1s 2ms/step - loss: 0.3052 - accuracy: 0.8754 - val_loss: 0.3560 - val_accuracy: 0.8553\n",
      "Epoch 134/1000\n",
      "543/543 [==============================] - 1s 2ms/step - loss: 0.3040 - accuracy: 0.8747 - val_loss: 0.3559 - val_accuracy: 0.8549\n",
      "Epoch 135/1000\n",
      "543/543 [==============================] - 1s 1ms/step - loss: 0.3043 - accuracy: 0.8743 - val_loss: 0.3612 - val_accuracy: 0.8545\n",
      "Epoch 136/1000\n",
      "543/543 [==============================] - 1s 2ms/step - loss: 0.3055 - accuracy: 0.8739 - val_loss: 0.3566 - val_accuracy: 0.8549\n",
      "Epoch 137/1000\n",
      "543/543 [==============================] - 1s 2ms/step - loss: 0.3043 - accuracy: 0.8763 - val_loss: 0.3554 - val_accuracy: 0.8538\n",
      "Epoch 138/1000\n",
      "543/543 [==============================] - 1s 2ms/step - loss: 0.3053 - accuracy: 0.8771 - val_loss: 0.3617 - val_accuracy: 0.8500\n",
      "Epoch 139/1000\n",
      "543/543 [==============================] - 1s 2ms/step - loss: 0.3036 - accuracy: 0.8769 - val_loss: 0.3592 - val_accuracy: 0.8575\n",
      "Epoch 140/1000\n",
      "543/543 [==============================] - 1s 2ms/step - loss: 0.3038 - accuracy: 0.8749 - val_loss: 0.3584 - val_accuracy: 0.8575\n",
      "Epoch 141/1000\n",
      "543/543 [==============================] - 1s 2ms/step - loss: 0.3037 - accuracy: 0.8756 - val_loss: 0.3588 - val_accuracy: 0.8530\n",
      "Epoch 142/1000\n",
      "543/543 [==============================] - 1s 2ms/step - loss: 0.3041 - accuracy: 0.8747 - val_loss: 0.3594 - val_accuracy: 0.8545\n",
      "Epoch 143/1000\n",
      "543/543 [==============================] - 1s 2ms/step - loss: 0.3028 - accuracy: 0.8762 - val_loss: 0.3638 - val_accuracy: 0.8545\n",
      "Epoch 144/1000\n",
      "543/543 [==============================] - 1s 2ms/step - loss: 0.3037 - accuracy: 0.8760 - val_loss: 0.3611 - val_accuracy: 0.8515\n",
      "Epoch 145/1000\n",
      "543/543 [==============================] - 1s 2ms/step - loss: 0.3031 - accuracy: 0.8762 - val_loss: 0.3605 - val_accuracy: 0.8519\n",
      "Epoch 146/1000\n",
      "543/543 [==============================] - 1s 2ms/step - loss: 0.3014 - accuracy: 0.8782 - val_loss: 0.3648 - val_accuracy: 0.8538\n",
      "Epoch 147/1000\n",
      "543/543 [==============================] - 1s 2ms/step - loss: 0.3037 - accuracy: 0.8725 - val_loss: 0.3607 - val_accuracy: 0.8527\n",
      "Epoch 148/1000\n",
      "543/543 [==============================] - 1s 2ms/step - loss: 0.3025 - accuracy: 0.8752 - val_loss: 0.3766 - val_accuracy: 0.8444\n",
      "Epoch 149/1000\n",
      "543/543 [==============================] - 1s 2ms/step - loss: 0.3033 - accuracy: 0.8741 - val_loss: 0.3604 - val_accuracy: 0.8571\n",
      "Epoch 150/1000\n",
      "543/543 [==============================] - 1s 2ms/step - loss: 0.3024 - accuracy: 0.8741 - val_loss: 0.3619 - val_accuracy: 0.8530\n",
      "Epoch 151/1000\n",
      "543/543 [==============================] - 1s 2ms/step - loss: 0.3029 - accuracy: 0.8750 - val_loss: 0.3632 - val_accuracy: 0.8527\n",
      "Epoch 152/1000\n",
      "543/543 [==============================] - 1s 2ms/step - loss: 0.3019 - accuracy: 0.8738 - val_loss: 0.3638 - val_accuracy: 0.8527\n",
      "Epoch 153/1000\n",
      "543/543 [==============================] - 1s 2ms/step - loss: 0.3023 - accuracy: 0.8750 - val_loss: 0.3602 - val_accuracy: 0.8545\n",
      "Epoch 154/1000\n",
      "543/543 [==============================] - 1s 2ms/step - loss: 0.3026 - accuracy: 0.8728 - val_loss: 0.3640 - val_accuracy: 0.8500\n",
      "Epoch 155/1000\n",
      "543/543 [==============================] - 1s 2ms/step - loss: 0.3015 - accuracy: 0.8765 - val_loss: 0.3636 - val_accuracy: 0.8504\n",
      "Epoch 156/1000\n",
      "543/543 [==============================] - 1s 1ms/step - loss: 0.3008 - accuracy: 0.8769 - val_loss: 0.3592 - val_accuracy: 0.8523\n",
      "Epoch 157/1000\n",
      "543/543 [==============================] - 1s 2ms/step - loss: 0.3019 - accuracy: 0.8767 - val_loss: 0.3650 - val_accuracy: 0.8538\n",
      "Epoch 158/1000\n",
      "543/543 [==============================] - 1s 2ms/step - loss: 0.3013 - accuracy: 0.8752 - val_loss: 0.3612 - val_accuracy: 0.8545\n",
      "Epoch 159/1000\n",
      "543/543 [==============================] - 1s 2ms/step - loss: 0.3012 - accuracy: 0.8758 - val_loss: 0.3609 - val_accuracy: 0.8542\n",
      "Epoch 160/1000\n",
      "543/543 [==============================] - 1s 2ms/step - loss: 0.3001 - accuracy: 0.8747 - val_loss: 0.3746 - val_accuracy: 0.8504\n",
      "Epoch 161/1000\n",
      "543/543 [==============================] - 1s 2ms/step - loss: 0.3021 - accuracy: 0.8750 - val_loss: 0.3592 - val_accuracy: 0.8564\n",
      "Epoch 162/1000\n",
      "543/543 [==============================] - 1s 2ms/step - loss: 0.3005 - accuracy: 0.8760 - val_loss: 0.3622 - val_accuracy: 0.8534\n",
      "Epoch 163/1000\n",
      "543/543 [==============================] - 1s 2ms/step - loss: 0.3002 - accuracy: 0.8754 - val_loss: 0.3636 - val_accuracy: 0.8553\n",
      "Epoch 164/1000\n",
      "543/543 [==============================] - 1s 2ms/step - loss: 0.3013 - accuracy: 0.8756 - val_loss: 0.3634 - val_accuracy: 0.8556\n",
      "Epoch 165/1000\n",
      "543/543 [==============================] - 1s 2ms/step - loss: 0.3011 - accuracy: 0.8743 - val_loss: 0.3631 - val_accuracy: 0.8504\n",
      "Epoch 166/1000\n",
      "543/543 [==============================] - 1s 2ms/step - loss: 0.3014 - accuracy: 0.8749 - val_loss: 0.3611 - val_accuracy: 0.8538\n",
      "Epoch 167/1000\n",
      "543/543 [==============================] - 1s 1ms/step - loss: 0.3015 - accuracy: 0.8756 - val_loss: 0.3649 - val_accuracy: 0.8485\n",
      "Epoch 168/1000\n",
      "543/543 [==============================] - 1s 2ms/step - loss: 0.2997 - accuracy: 0.8752 - val_loss: 0.3691 - val_accuracy: 0.8519\n",
      "Epoch 169/1000\n",
      "543/543 [==============================] - 1s 2ms/step - loss: 0.3011 - accuracy: 0.8741 - val_loss: 0.3651 - val_accuracy: 0.8515\n",
      "Epoch 170/1000\n",
      "543/543 [==============================] - 1s 2ms/step - loss: 0.3001 - accuracy: 0.8745 - val_loss: 0.3626 - val_accuracy: 0.8571\n",
      "Epoch 171/1000\n",
      "543/543 [==============================] - 1s 2ms/step - loss: 0.3008 - accuracy: 0.8754 - val_loss: 0.3650 - val_accuracy: 0.8523\n",
      "Epoch 172/1000\n",
      "543/543 [==============================] - 1s 2ms/step - loss: 0.3005 - accuracy: 0.8771 - val_loss: 0.3669 - val_accuracy: 0.8515\n",
      "Epoch 173/1000\n",
      "543/543 [==============================] - 1s 2ms/step - loss: 0.3002 - accuracy: 0.8760 - val_loss: 0.3671 - val_accuracy: 0.8545\n",
      "Epoch 174/1000\n",
      "543/543 [==============================] - 1s 2ms/step - loss: 0.3007 - accuracy: 0.8769 - val_loss: 0.3637 - val_accuracy: 0.8504\n",
      "Epoch 175/1000\n",
      "543/543 [==============================] - 1s 2ms/step - loss: 0.2996 - accuracy: 0.8773 - val_loss: 0.3670 - val_accuracy: 0.8504\n",
      "Epoch 176/1000\n",
      "543/543 [==============================] - 1s 2ms/step - loss: 0.2996 - accuracy: 0.8750 - val_loss: 0.3651 - val_accuracy: 0.8512\n",
      "Epoch 177/1000\n",
      "543/543 [==============================] - 1s 2ms/step - loss: 0.3004 - accuracy: 0.8752 - val_loss: 0.3640 - val_accuracy: 0.8515\n",
      "Epoch 178/1000\n",
      "543/543 [==============================] - 1s 1ms/step - loss: 0.3000 - accuracy: 0.8752 - val_loss: 0.3684 - val_accuracy: 0.8500\n",
      "Epoch 179/1000\n",
      "543/543 [==============================] - 1s 2ms/step - loss: 0.2994 - accuracy: 0.8782 - val_loss: 0.3629 - val_accuracy: 0.8556\n",
      "Epoch 180/1000\n",
      "543/543 [==============================] - 1s 2ms/step - loss: 0.3002 - accuracy: 0.8747 - val_loss: 0.3651 - val_accuracy: 0.8553\n",
      "Epoch 181/1000\n",
      "543/543 [==============================] - 1s 2ms/step - loss: 0.2992 - accuracy: 0.8752 - val_loss: 0.3665 - val_accuracy: 0.8530\n",
      "Epoch 182/1000\n",
      "543/543 [==============================] - 1s 2ms/step - loss: 0.2996 - accuracy: 0.8727 - val_loss: 0.3669 - val_accuracy: 0.8493\n",
      "Epoch 183/1000\n",
      "543/543 [==============================] - 1s 2ms/step - loss: 0.2993 - accuracy: 0.8776 - val_loss: 0.3664 - val_accuracy: 0.8542\n",
      "Epoch 184/1000\n",
      "543/543 [==============================] - 1s 2ms/step - loss: 0.2988 - accuracy: 0.8771 - val_loss: 0.3689 - val_accuracy: 0.8523\n",
      "Epoch 185/1000\n",
      "543/543 [==============================] - 1s 2ms/step - loss: 0.2982 - accuracy: 0.8767 - val_loss: 0.3651 - val_accuracy: 0.8530\n",
      "Epoch 186/1000\n",
      "543/543 [==============================] - 1s 2ms/step - loss: 0.3003 - accuracy: 0.8776 - val_loss: 0.3655 - val_accuracy: 0.8527\n",
      "Epoch 187/1000\n",
      "543/543 [==============================] - 1s 2ms/step - loss: 0.2995 - accuracy: 0.8732 - val_loss: 0.3674 - val_accuracy: 0.8500\n",
      "Epoch 188/1000\n",
      "543/543 [==============================] - 1s 2ms/step - loss: 0.2986 - accuracy: 0.8765 - val_loss: 0.3681 - val_accuracy: 0.8515\n",
      "Epoch 189/1000\n",
      "543/543 [==============================] - 1s 2ms/step - loss: 0.2989 - accuracy: 0.8749 - val_loss: 0.3724 - val_accuracy: 0.8497\n",
      "Epoch 190/1000\n",
      "543/543 [==============================] - 1s 2ms/step - loss: 0.2994 - accuracy: 0.8750 - val_loss: 0.3667 - val_accuracy: 0.8523\n",
      "Epoch 191/1000\n",
      "543/543 [==============================] - 1s 2ms/step - loss: 0.2997 - accuracy: 0.8760 - val_loss: 0.3687 - val_accuracy: 0.8530\n",
      "Epoch 192/1000\n",
      "543/543 [==============================] - 1s 2ms/step - loss: 0.2999 - accuracy: 0.8734 - val_loss: 0.3635 - val_accuracy: 0.8549\n",
      "Epoch 193/1000\n",
      "543/543 [==============================] - 1s 2ms/step - loss: 0.2992 - accuracy: 0.8743 - val_loss: 0.3685 - val_accuracy: 0.8545\n",
      "Epoch 194/1000\n",
      "543/543 [==============================] - 1s 2ms/step - loss: 0.2982 - accuracy: 0.8758 - val_loss: 0.3719 - val_accuracy: 0.8489\n",
      "Epoch 195/1000\n",
      "543/543 [==============================] - 1s 2ms/step - loss: 0.2997 - accuracy: 0.8782 - val_loss: 0.3650 - val_accuracy: 0.8530\n",
      "Epoch 196/1000\n",
      "543/543 [==============================] - 1s 2ms/step - loss: 0.2987 - accuracy: 0.8739 - val_loss: 0.3679 - val_accuracy: 0.8549\n",
      "Epoch 197/1000\n",
      "543/543 [==============================] - 1s 2ms/step - loss: 0.2995 - accuracy: 0.8738 - val_loss: 0.3715 - val_accuracy: 0.8497\n",
      "Epoch 198/1000\n",
      "543/543 [==============================] - 1s 2ms/step - loss: 0.2987 - accuracy: 0.8785 - val_loss: 0.3699 - val_accuracy: 0.8493\n",
      "Epoch 199/1000\n",
      "543/543 [==============================] - 1s 2ms/step - loss: 0.2987 - accuracy: 0.8747 - val_loss: 0.3694 - val_accuracy: 0.8515\n",
      "Epoch 200/1000\n",
      "543/543 [==============================] - 1s 2ms/step - loss: 0.2995 - accuracy: 0.8752 - val_loss: 0.3661 - val_accuracy: 0.8575\n",
      "Epoch 201/1000\n",
      "543/543 [==============================] - 1s 2ms/step - loss: 0.2986 - accuracy: 0.8773 - val_loss: 0.3656 - val_accuracy: 0.8549\n",
      "Epoch 202/1000\n",
      "543/543 [==============================] - 1s 2ms/step - loss: 0.2980 - accuracy: 0.8754 - val_loss: 0.3651 - val_accuracy: 0.8538\n",
      "Epoch 203/1000\n",
      "543/543 [==============================] - 1s 2ms/step - loss: 0.2990 - accuracy: 0.8760 - val_loss: 0.3694 - val_accuracy: 0.8519\n",
      "Epoch 204/1000\n",
      "543/543 [==============================] - 1s 1ms/step - loss: 0.2985 - accuracy: 0.8730 - val_loss: 0.3691 - val_accuracy: 0.8534\n",
      "Epoch 205/1000\n",
      "543/543 [==============================] - 1s 1ms/step - loss: 0.2970 - accuracy: 0.8758 - val_loss: 0.3789 - val_accuracy: 0.8463\n",
      "Epoch 206/1000\n",
      "349/543 [==================>...........] - ETA: 0s - loss: 0.3062 - accuracy: 0.8736"
     ]
    },
    {
     "name": "stderr",
     "output_type": "stream",
     "text": [
      "\n",
      "KeyboardInterrupt\n",
      "\n"
     ]
    }
   ],
   "source": [
    "model_history = classifier.fit(X_train,y_train, validation_split=0.33,batch_size=10,epochs=1000)"
   ]
  },
  {
   "cell_type": "markdown",
   "id": "2c532239-ed80-47be-8d27-112db7eb8cdb",
   "metadata": {},
   "source": [
    "here you can see the accuracy is stanent from somepoint, this we dont need to run any more epochs, thus we apply early stopping"
   ]
  },
  {
   "cell_type": "code",
   "execution_count": 21,
   "id": "fd1e3189-22db-4d12-921e-cdac5ddfefe3",
   "metadata": {},
   "outputs": [],
   "source": [
    "## Early Stopping - when accuracy is not increasing , the training stops\n",
    "\n",
    "early_stopping = tf.keras.callbacks.EarlyStopping(\n",
    "    monitor=\"val_loss\",\n",
    "    min_delta=0.0001,\n",
    "    patience=20,\n",
    "    verbose=1,\n",
    "    mode=\"auto\",\n",
    "    baseline=None,\n",
    "    restore_best_weights=False,\n",
    "    start_from_epoch=0,\n",
    ")"
   ]
  },
  {
   "cell_type": "code",
   "execution_count": 22,
   "id": "e53e0cef-9007-41f7-86af-ddd1790b8123",
   "metadata": {},
   "outputs": [
    {
     "name": "stdout",
     "output_type": "stream",
     "text": [
      "Epoch 1/1000\n",
      "WARNING:tensorflow:From C:\\Anaconda\\envs\\tf_gpu\\Lib\\site-packages\\keras\\src\\utils\\tf_utils.py:492: The name tf.ragged.RaggedTensorValue is deprecated. Please use tf.compat.v1.ragged.RaggedTensorValue instead.\n",
      "\n",
      "WARNING:tensorflow:From C:\\Anaconda\\envs\\tf_gpu\\Lib\\site-packages\\keras\\src\\engine\\base_layer_utils.py:384: The name tf.executing_eagerly_outside_functions is deprecated. Please use tf.compat.v1.executing_eagerly_outside_functions instead.\n",
      "\n",
      "536/536 [==============================] - 2s 2ms/step - loss: 0.5020 - accuracy: 0.7772 - val_loss: 0.4532 - val_accuracy: 0.7959\n",
      "Epoch 2/1000\n",
      "536/536 [==============================] - 1s 1ms/step - loss: 0.4393 - accuracy: 0.7964 - val_loss: 0.4374 - val_accuracy: 0.7989\n",
      "Epoch 3/1000\n",
      "536/536 [==============================] - 1s 1ms/step - loss: 0.4248 - accuracy: 0.8048 - val_loss: 0.4288 - val_accuracy: 0.8141\n",
      "Epoch 4/1000\n",
      "536/536 [==============================] - 1s 2ms/step - loss: 0.4122 - accuracy: 0.8169 - val_loss: 0.4211 - val_accuracy: 0.8220\n",
      "Epoch 5/1000\n",
      "536/536 [==============================] - 1s 2ms/step - loss: 0.3968 - accuracy: 0.8317 - val_loss: 0.4034 - val_accuracy: 0.8289\n",
      "Epoch 6/1000\n",
      "536/536 [==============================] - 1s 2ms/step - loss: 0.3783 - accuracy: 0.8391 - val_loss: 0.3865 - val_accuracy: 0.8353\n",
      "Epoch 7/1000\n",
      "536/536 [==============================] - 1s 1ms/step - loss: 0.3620 - accuracy: 0.8500 - val_loss: 0.3778 - val_accuracy: 0.8391\n",
      "Epoch 8/1000\n",
      "536/536 [==============================] - 1s 1ms/step - loss: 0.3534 - accuracy: 0.8509 - val_loss: 0.3724 - val_accuracy: 0.8425\n",
      "Epoch 9/1000\n",
      "536/536 [==============================] - 1s 1ms/step - loss: 0.3495 - accuracy: 0.8524 - val_loss: 0.3707 - val_accuracy: 0.8444\n",
      "Epoch 10/1000\n",
      "536/536 [==============================] - 1s 2ms/step - loss: 0.3449 - accuracy: 0.8599 - val_loss: 0.3675 - val_accuracy: 0.8432\n",
      "Epoch 11/1000\n",
      "536/536 [==============================] - 1s 1ms/step - loss: 0.3419 - accuracy: 0.8552 - val_loss: 0.3663 - val_accuracy: 0.8463\n",
      "Epoch 12/1000\n",
      "536/536 [==============================] - 1s 1ms/step - loss: 0.3404 - accuracy: 0.8571 - val_loss: 0.3663 - val_accuracy: 0.8463\n",
      "Epoch 13/1000\n",
      "536/536 [==============================] - 1s 1ms/step - loss: 0.3377 - accuracy: 0.8587 - val_loss: 0.3658 - val_accuracy: 0.8444\n",
      "Epoch 14/1000\n",
      "536/536 [==============================] - 1s 2ms/step - loss: 0.3364 - accuracy: 0.8593 - val_loss: 0.3625 - val_accuracy: 0.8489\n",
      "Epoch 15/1000\n",
      "536/536 [==============================] - 1s 1ms/step - loss: 0.3341 - accuracy: 0.8595 - val_loss: 0.3622 - val_accuracy: 0.8489\n",
      "Epoch 16/1000\n",
      "536/536 [==============================] - 1s 1ms/step - loss: 0.3335 - accuracy: 0.8617 - val_loss: 0.3667 - val_accuracy: 0.8497\n",
      "Epoch 17/1000\n",
      "536/536 [==============================] - 1s 1ms/step - loss: 0.3316 - accuracy: 0.8630 - val_loss: 0.3647 - val_accuracy: 0.8425\n",
      "Epoch 18/1000\n",
      "536/536 [==============================] - 1s 1ms/step - loss: 0.3307 - accuracy: 0.8638 - val_loss: 0.3653 - val_accuracy: 0.8451\n",
      "Epoch 19/1000\n",
      "536/536 [==============================] - 1s 1ms/step - loss: 0.3302 - accuracy: 0.8608 - val_loss: 0.3623 - val_accuracy: 0.8497\n",
      "Epoch 20/1000\n",
      "536/536 [==============================] - 1s 1ms/step - loss: 0.3286 - accuracy: 0.8636 - val_loss: 0.3658 - val_accuracy: 0.8459\n",
      "Epoch 21/1000\n",
      "536/536 [==============================] - 1s 1ms/step - loss: 0.3292 - accuracy: 0.8640 - val_loss: 0.3629 - val_accuracy: 0.8504\n",
      "Epoch 22/1000\n",
      "536/536 [==============================] - 1s 1ms/step - loss: 0.3264 - accuracy: 0.8628 - val_loss: 0.3624 - val_accuracy: 0.8497\n",
      "Epoch 23/1000\n",
      "536/536 [==============================] - 1s 1ms/step - loss: 0.3266 - accuracy: 0.8642 - val_loss: 0.3630 - val_accuracy: 0.8493\n",
      "Epoch 24/1000\n",
      "536/536 [==============================] - 1s 1ms/step - loss: 0.3248 - accuracy: 0.8670 - val_loss: 0.3628 - val_accuracy: 0.8508\n",
      "Epoch 25/1000\n",
      "536/536 [==============================] - 1s 2ms/step - loss: 0.3248 - accuracy: 0.8647 - val_loss: 0.3623 - val_accuracy: 0.8493\n",
      "Epoch 26/1000\n",
      "536/536 [==============================] - 1s 2ms/step - loss: 0.3240 - accuracy: 0.8662 - val_loss: 0.3626 - val_accuracy: 0.8519\n",
      "Epoch 27/1000\n",
      "536/536 [==============================] - 1s 2ms/step - loss: 0.3229 - accuracy: 0.8673 - val_loss: 0.3647 - val_accuracy: 0.8493\n",
      "Epoch 28/1000\n",
      "536/536 [==============================] - 1s 1ms/step - loss: 0.3234 - accuracy: 0.8649 - val_loss: 0.3668 - val_accuracy: 0.8504\n",
      "Epoch 29/1000\n",
      "536/536 [==============================] - 1s 1ms/step - loss: 0.3228 - accuracy: 0.8688 - val_loss: 0.3632 - val_accuracy: 0.8493\n",
      "Epoch 30/1000\n",
      "536/536 [==============================] - 1s 1ms/step - loss: 0.3221 - accuracy: 0.8660 - val_loss: 0.3633 - val_accuracy: 0.8542\n",
      "Epoch 31/1000\n",
      "536/536 [==============================] - 1s 1ms/step - loss: 0.3221 - accuracy: 0.8664 - val_loss: 0.3676 - val_accuracy: 0.8527\n",
      "Epoch 32/1000\n",
      "536/536 [==============================] - 1s 1ms/step - loss: 0.3212 - accuracy: 0.8701 - val_loss: 0.3656 - val_accuracy: 0.8519\n",
      "Epoch 33/1000\n",
      "536/536 [==============================] - 1s 1ms/step - loss: 0.3211 - accuracy: 0.8679 - val_loss: 0.3635 - val_accuracy: 0.8527\n",
      "Epoch 34/1000\n",
      "536/536 [==============================] - 1s 1ms/step - loss: 0.3205 - accuracy: 0.8683 - val_loss: 0.3674 - val_accuracy: 0.8523\n",
      "Epoch 35/1000\n",
      "536/536 [==============================] - 1s 1ms/step - loss: 0.3217 - accuracy: 0.8677 - val_loss: 0.3662 - val_accuracy: 0.8535\n",
      "Epoch 35: early stopping\n"
     ]
    }
   ],
   "source": [
    "model_history = classifier.fit(X_train,y_train, validation_split=0.33,batch_size=10,epochs=1000,callbacks=early_stopping)"
   ]
  },
  {
   "cell_type": "markdown",
   "id": "c0b5ba50-1564-4ffb-82bb-0b40bb76bae6",
   "metadata": {},
   "source": [
    "so it stopped at 35 epochs"
   ]
  },
  {
   "cell_type": "code",
   "execution_count": 23,
   "id": "3265ffbc-1bd0-4853-9d76-ce15c717b1fa",
   "metadata": {},
   "outputs": [
    {
     "data": {
      "text/plain": [
       "dict_keys(['loss', 'accuracy', 'val_loss', 'val_accuracy'])"
      ]
     },
     "execution_count": 23,
     "metadata": {},
     "output_type": "execute_result"
    }
   ],
   "source": [
    "model_history.history.keys()"
   ]
  },
  {
   "cell_type": "code",
   "execution_count": 24,
   "id": "103c3dc3-dcba-458d-a415-8eae8c698aa0",
   "metadata": {},
   "outputs": [
    {
     "data": {
      "image/png": "[encoded data removed]",
      "text/plain": [
       "<Figure size 640x480 with 1 Axes>"
      ]
     },
     "metadata": {},
     "output_type": "display_data"
    }
   ],
   "source": [
    "### sumarize history for accuracy\n",
    "plt.plot(model_history.history['accuracy'])\n",
    "plt.plot(model_history.history['val_accuracy'])\n",
    "plt.title('model accuracy')\n",
    "plt.ylabel('accuracy')\n",
    "plt.xlabel('epoch')\n",
    "plt.legend(['train','test'],loc='upper left')\n",
    "plt.show()"
   ]
  },
  {
   "cell_type": "code",
   "execution_count": 25,
   "id": "33978c27-8f9b-427f-9583-9e85c1230717",
   "metadata": {},
   "outputs": [
    {
     "data": {
      "image/png": "[encoded data removed]",
      "text/plain": [
       "<Figure size 640x480 with 1 Axes>"
      ]
     },
     "metadata": {},
     "output_type": "display_data"
    }
   ],
   "source": [
    "### sumarize history for accuracy\n",
    "plt.plot(model_history.history['loss'])\n",
    "plt.plot(model_history.history['val_loss'])\n",
    "plt.title('model loss')\n",
    "plt.ylabel('loss')\n",
    "plt.xlabel('epoch')\n",
    "plt.legend(['train','test'],loc='upper left')\n",
    "plt.show()"
   ]
  },
  {
   "cell_type": "markdown",
   "id": "9d5a84a1-9f6e-4aed-a1f3-866a049c47d3",
   "metadata": {},
   "source": [
    "#### Let's do prediction on some test data"
   ]
  },
  {
   "cell_type": "code",
   "execution_count": 26,
   "id": "4a843168-b1c4-4024-88d6-eeb5f67483d2",
   "metadata": {},
   "outputs": [
    {
     "name": "stdout",
     "output_type": "stream",
     "text": [
      "63/63 [==============================] - 0s 1ms/step\n"
     ]
    }
   ],
   "source": [
    "y_pred = classifier.predict(X_test)\n",
    "y_pred = (y_pred >= 0.5)"
   ]
  },
  {
   "cell_type": "code",
   "execution_count": 27,
   "id": "c6cc8089-d7b5-4037-86ab-e7063969d170",
   "metadata": {},
   "outputs": [],
   "source": [
    "### now make the confusion matrix\n",
    "from sklearn.metrics import confusion_matrix\n",
    "cm = confusion_matrix(y_test,y_pred)"
   ]
  },
  {
   "cell_type": "code",
   "execution_count": 28,
   "id": "5a4a3d8b-159e-4435-aa42-49b06cb88db5",
   "metadata": {},
   "outputs": [
    {
     "data": {
      "text/plain": [
       "array([[1515,   80],\n",
       "       [ 197,  208]], dtype=int64)"
      ]
     },
     "execution_count": 28,
     "metadata": {},
     "output_type": "execute_result"
    }
   ],
   "source": [
    "cm"
   ]
  },
  {
   "cell_type": "code",
   "execution_count": 29,
   "id": "ce5cd914-bf3d-4825-a79b-4dd54d378e29",
   "metadata": {},
   "outputs": [],
   "source": [
    "### calculate the accuracy\n",
    "from sklearn.metrics import accuracy_score\n",
    "score = accuracy_score(y_pred,y_test)"
   ]
  },
  {
   "cell_type": "code",
   "execution_count": 30,
   "id": "9212fb4b-cc1e-4030-8d99-16b81e66f11e",
   "metadata": {},
   "outputs": [
    {
     "data": {
      "text/plain": [
       "0.8615"
      ]
     },
     "execution_count": 30,
     "metadata": {},
     "output_type": "execute_result"
    }
   ],
   "source": [
    "score"
   ]
  },
  {
   "cell_type": "markdown",
   "id": "9c491866-219a-4afb-b6e7-2a5524763e67",
   "metadata": {},
   "source": [
    "#### Get the weights \n",
    "you can save this as a pikle file"
   ]
  },
  {
   "cell_type": "code",
   "execution_count": 31,
   "id": "d8551285-c103-4a89-b2e3-5caa318dd803",
   "metadata": {},
   "outputs": [
    {
     "data": {
      "text/plain": [
       "[array([[ 0.1135981 , -0.03290277, -0.1286373 , -0.5931395 ,  0.4617579 ,\n",
       "          0.10268065, -0.01172052,  0.12125849,  0.0954942 , -0.21299446,\n",
       "         -0.04277611],\n",
       "        [-0.59102136, -0.28918627, -0.1556473 , -0.3373524 , -0.16248497,\n",
       "         -0.06107374,  0.06016862, -0.74891615, -0.91853577, -0.42605963,\n",
       "         -0.254043  ],\n",
       "        [ 0.03353384,  0.51676124,  0.02930124, -0.2867258 ,  0.47618833,\n",
       "          0.03547155, -0.08937881,  0.02687194, -0.41798624,  0.08304326,\n",
       "          0.12892044],\n",
       "        [-0.0288076 ,  0.02691282, -0.33388048, -0.18899745, -0.7294645 ,\n",
       "         -0.18314601,  0.4667316 ,  0.09280394,  0.06659683, -0.5560439 ,\n",
       "          0.21001884],\n",
       "        [ 0.06362438,  0.21714829, -0.50356203, -0.40175027,  0.76618785,\n",
       "         -1.0959406 ,  0.88675666, -0.05226778,  0.23867774,  0.54888093,\n",
       "          0.29559365],\n",
       "        [-0.0475983 ,  0.34278092,  0.14902703,  0.12486593, -0.06934065,\n",
       "         -0.10777789, -0.0508555 , -0.01305752,  0.47557446,  0.34959498,\n",
       "          0.31381884],\n",
       "        [-0.2038765 , -0.03154382,  0.19096771,  0.32692063,  0.2351739 ,\n",
       "         -0.6303406 , -0.5031192 , -0.39846432,  0.15630619,  0.38507265,\n",
       "         -0.16041659],\n",
       "        [ 0.02872051, -0.39545482, -0.0119771 , -0.01750586,  0.07167212,\n",
       "          0.07554022,  0.07248691, -0.02109197, -0.27682588, -0.0236147 ,\n",
       "         -0.27078173],\n",
       "        [-0.23030202,  0.68458194,  0.19712764, -0.14999792, -0.47362295,\n",
       "          0.2845246 , -0.3455309 ,  0.02121736, -0.42886123,  0.48755813,\n",
       "          0.2254187 ],\n",
       "        [-0.03118384,  0.4884242 ,  0.00799069, -0.6487081 ,  0.4170529 ,\n",
       "          0.06704424, -0.00587506, -0.03762002, -0.12030987, -0.25223157,\n",
       "         -0.6662419 ],\n",
       "        [ 0.82531494,  0.3907431 , -0.2709199 ,  0.33697972,  0.27327052,\n",
       "          0.06467528, -0.0579168 , -0.2978637 , -0.25725764, -0.31475508,\n",
       "         -0.68867576]], dtype=float32),\n",
       " array([ 0.10521358, -0.03727665, -0.10710098,  0.41371274, -0.1902654 ,\n",
       "         0.1834569 , -0.25763103,  0.56677943, -0.10602541,  0.07536893,\n",
       "         0.06803169], dtype=float32),\n",
       " array([[-0.08352894, -0.34519887,  0.38068092,  0.30174005, -0.32459193,\n",
       "         -0.4475655 , -0.3736421 ],\n",
       "        [-0.67311025, -0.08481853, -0.33903146,  0.27534643, -0.30546248,\n",
       "         -0.5447846 , -0.06227441],\n",
       "        [-0.2058511 , -0.5225002 ,  0.07446183, -0.31492278,  0.38973525,\n",
       "         -0.03218911,  0.24032843],\n",
       "        [ 0.00518257, -0.33183452, -0.4024311 ,  0.47531474,  0.5548064 ,\n",
       "          0.07594394,  0.16542163],\n",
       "        [-0.14317578,  0.16415456,  0.20977688,  0.26569223, -0.13681905,\n",
       "          0.3589565 ,  0.5405333 ],\n",
       "        [-0.4877576 ,  0.4913438 , -0.10462543, -0.35783193,  0.03742755,\n",
       "         -0.28104356,  0.46309853],\n",
       "        [-0.01758844,  0.53509986, -0.44335988, -0.29659945, -0.07325353,\n",
       "         -0.30864644,  0.59728307],\n",
       "        [-0.09341763, -0.55983067, -0.14869751,  0.32688552, -0.60735524,\n",
       "          0.8049069 , -0.03941241],\n",
       "        [ 0.58328897, -0.13509215, -0.6658852 , -0.15339136, -0.33261198,\n",
       "         -0.3917138 , -0.18365301],\n",
       "        [-0.13889804,  0.45099828,  0.4461149 ,  0.26180735, -0.62799937,\n",
       "          0.41578054,  0.33931476],\n",
       "        [ 0.09018119,  0.06610246, -0.54802436, -0.28150198,  0.42988655,\n",
       "          0.6325137 ,  0.53191227]], dtype=float32),\n",
       " array([ 0.41193   , -0.2675116 ,  0.22922987,  0.58120173,  0.06214579,\n",
       "         0.18751246,  0.0406114 ], dtype=float32),\n",
       " array([[-0.08931781, -0.65869987,  0.4832528 , -1.129584  ,  0.02321046,\n",
       "          0.34695956],\n",
       "        [-0.47585014,  0.5033654 , -1.2130934 ,  0.5523231 ,  0.32891998,\n",
       "         -0.27636293],\n",
       "        [ 1.236444  , -0.61587083,  1.2422694 ,  0.21505144,  0.6914291 ,\n",
       "         -0.6937653 ],\n",
       "        [ 0.6973451 , -0.29922932,  0.463201  , -0.24596696,  0.4876008 ,\n",
       "         -0.7505372 ],\n",
       "        [-0.71894616, -0.24218205, -0.5792752 ,  0.5239896 , -0.36950868,\n",
       "         -0.21479917],\n",
       "        [-0.31810254, -0.7451568 ,  0.59094083, -0.06095994, -0.133932  ,\n",
       "         -0.77798   ],\n",
       "        [-0.26926357,  0.861487  ,  0.19268464,  0.5300041 , -0.54023015,\n",
       "         -0.4222051 ]], dtype=float32),\n",
       " array([ 0.3893013 ,  0.1298263 ,  0.2047972 , -0.01452137,  0.28291592,\n",
       "        -0.23524989], dtype=float32),\n",
       " array([[-1.1920335],\n",
       "        [ 1.3190131],\n",
       "        [-1.105728 ],\n",
       "        [ 0.743609 ],\n",
       "        [-0.2496513],\n",
       "        [ 0.6248521]], dtype=float32),\n",
       " array([-0.06318817], dtype=float32)]"
      ]
     },
     "execution_count": 31,
     "metadata": {},
     "output_type": "execute_result"
    }
   ],
   "source": [
    "classifier.get_weights()"
   ]
  },
  {
   "cell_type": "code",
   "execution_count": null,
   "id": "95c68861-998b-4c4c-bcd2-736428dd3c8b",
   "metadata": {},
   "outputs": [],
   "source": []
  }
 ],
 "metadata": {
  "kernelspec": {
   "display_name": "Python 3 (ipykernel)",
   "language": "python",
   "name": "python3"
  },
  "language_info": {
   "codemirror_mode": {
    "name": "ipython",
    "version": 3
   },
   "file_extension": ".py",
   "mimetype": "text/x-python",
   "name": "python",
   "nbconvert_exporter": "python",
   "pygments_lexer": "ipython3",
   "version": "3.11.13"
  }
 },
 "nbformat": 4,
 "nbformat_minor": 5
}
